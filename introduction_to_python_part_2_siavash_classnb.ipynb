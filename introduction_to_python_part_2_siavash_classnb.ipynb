{
  "cells": [
    {
      "cell_type": "markdown",
      "metadata": {
        "id": "view-in-github",
        "colab_type": "text"
      },
      "source": [
        "<a href=\"https://colab.research.google.com/github/anvi265/python-fundamentals/blob/main/introduction_to_python_part_2_siavash_classnb.ipynb\" target=\"_parent\"><img src=\"https://colab.research.google.com/assets/colab-badge.svg\" alt=\"Open In Colab\"/></a>"
      ]
    },
    {
      "cell_type": "markdown",
      "metadata": {
        "id": "USgzh1u-7IAn"
      },
      "source": [
        "# Python Functions / Methods\n",
        "\n",
        "Here are various examples on how we can use functions / Methods in Python."
      ]
    },
    {
      "cell_type": "markdown",
      "metadata": {
        "id": "kDAlyoSp8Yvj"
      },
      "source": [
        "## Basic Function"
      ]
    },
    {
      "cell_type": "code",
      "execution_count": null,
      "metadata": {
        "colab": {
          "base_uri": "https://localhost:8080/"
        },
        "id": "-jMBD7Yz7rG-",
        "outputId": "09ed70ea-0351-4679-ee92-aa207ff27fac"
      },
      "outputs": [
        {
          "output_type": "stream",
          "name": "stdout",
          "text": [
            "Hello, World!\n"
          ]
        }
      ],
      "source": [
        "def greet():\n",
        "    print(\"Hello, World!\")\n",
        "\n",
        "greet() # calling a function."
      ]
    },
    {
      "cell_type": "markdown",
      "metadata": {
        "id": "nOLoTMAA8ezn"
      },
      "source": [
        "## Function With Parameters"
      ]
    },
    {
      "cell_type": "code",
      "execution_count": null,
      "metadata": {
        "colab": {
          "base_uri": "https://localhost:8080/"
        },
        "id": "d-BL4EnL8h_I",
        "outputId": "885c59a7-fcbf-46de-bd8e-0e212fa3eb2d"
      },
      "outputs": [
        {
          "output_type": "stream",
          "name": "stdout",
          "text": [
            "8\n"
          ]
        }
      ],
      "source": [
        "def add_numbers(a, b): # parameters\n",
        "  return a + b\n",
        "\n",
        "result = add_numbers(5, 3) # arguments\n",
        "print(result)"
      ]
    },
    {
      "cell_type": "markdown",
      "metadata": {
        "id": "UWHEkJ-_8wzl"
      },
      "source": [
        "## Default Parameter Values"
      ]
    },
    {
      "cell_type": "code",
      "execution_count": null,
      "metadata": {
        "colab": {
          "base_uri": "https://localhost:8080/"
        },
        "id": "W03YYFyO86jV",
        "outputId": "6770805b-1054-4559-a8ae-3ede36ac5d72"
      },
      "outputs": [
        {
          "output_type": "stream",
          "name": "stdout",
          "text": [
            "Hello, Guest\n",
            "Hello, Alice\n"
          ]
        }
      ],
      "source": [
        "def greet(name=\"Guest\"):\n",
        "    print(f\"Hello, {name}\")\n",
        "\n",
        "greet()\n",
        "greet(\"Alice\")"
      ]
    },
    {
      "cell_type": "markdown",
      "metadata": {
        "id": "oWmfeA8h9Egh"
      },
      "source": [
        "## Return Multiple Values"
      ]
    },
    {
      "cell_type": "code",
      "execution_count": null,
      "metadata": {
        "colab": {
          "base_uri": "https://localhost:8080/"
        },
        "id": "4-Am-QoI9HCV",
        "outputId": "25296dc6-cea0-4ffa-b56a-c26204dfee71"
      },
      "outputs": [
        {
          "output_type": "stream",
          "name": "stdout",
          "text": [
            "Square: 9\n",
            "Cube: 27\n"
          ]
        }
      ],
      "source": [
        "def get_square_and_cube(x):\n",
        "    square = x ** 2\n",
        "    cube = x ** 3\n",
        "    # return x ** 2, x ** 3\n",
        "    return square, cube\n",
        "\n",
        "S, C = get_square_and_cube(3) # Multiple assignment\n",
        "print(\"Square:\", S)\n",
        "print(\"Cube:\", C)"
      ]
    },
    {
      "cell_type": "code",
      "source": [
        "def get_square_and_cube(x):\n",
        "    square = x ** 2\n",
        "    cube = x ** 3\n",
        "    return square, cube\n",
        "\n",
        "result = get_square_and_cube(3)\n",
        "\n",
        "print(result[0])\n",
        "print(result[1])"
      ],
      "metadata": {
        "colab": {
          "base_uri": "https://localhost:8080/"
        },
        "id": "R44GcNSDp0IP",
        "outputId": "435b81af-9f0a-4bb0-cdd0-62994831a8a9"
      },
      "execution_count": null,
      "outputs": [
        {
          "output_type": "stream",
          "name": "stdout",
          "text": [
            "9\n",
            "27\n"
          ]
        }
      ]
    },
    {
      "cell_type": "markdown",
      "metadata": {
        "id": "IouZEmXn9GVT"
      },
      "source": [
        "## Variable Number of Arguments\n",
        "Handling variable number of arguments using `*args`"
      ]
    },
    {
      "cell_type": "code",
      "execution_count": null,
      "metadata": {
        "colab": {
          "base_uri": "https://localhost:8080/"
        },
        "id": "fRnOXUTX9hUe",
        "outputId": "c7512dc3-ccc4-4acd-8724-f8e673ca4148"
      },
      "outputs": [
        {
          "output_type": "stream",
          "name": "stdout",
          "text": [
            "15\n",
            "6\n"
          ]
        }
      ],
      "source": [
        "def add_all(*args):\n",
        "    result = 0\n",
        "    for num in args:\n",
        "        result += num\n",
        "    return result\n",
        "\n",
        "result = add_all(1, 2, 3, 4, 5)\n",
        "print(result)\n",
        "\n",
        "result = add_all(1, 2, 3)\n",
        "print(result)"
      ]
    },
    {
      "cell_type": "markdown",
      "metadata": {
        "id": "iX87JWlM9gy0"
      },
      "source": [
        "## Keyword Arguments"
      ]
    },
    {
      "cell_type": "code",
      "execution_count": null,
      "metadata": {
        "colab": {
          "base_uri": "https://localhost:8080/"
        },
        "id": "2kl7uLOb9zVP",
        "outputId": "c9485084-b342-4bae-a540-9f4aa44440d4"
      },
      "outputs": [
        {
          "output_type": "stream",
          "name": "stdout",
          "text": [
            "Name: Alice, Age: 25\n"
          ]
        }
      ],
      "source": [
        "def display_info(name, age):\n",
        "    print(f\"Name: {name}, Age: {age}\")\n",
        "\n",
        "display_info(age=25, name=\"Alice\")"
      ]
    },
    {
      "cell_type": "markdown",
      "metadata": {
        "id": "yUCPmsRB-D5t"
      },
      "source": [
        "## Function within a Function\n",
        "Defining a function within another function. Unlike other languages this is allowed in Python."
      ]
    },
    {
      "cell_type": "code",
      "execution_count": null,
      "metadata": {
        "colab": {
          "base_uri": "https://localhost:8080/"
        },
        "id": "ONzVGBWp-Oki",
        "outputId": "5f27afc9-bd52-41f0-f144-6fa448bdfbfc"
      },
      "outputs": [
        {
          "output_type": "stream",
          "name": "stdout",
          "text": [
            "6\n"
          ]
        }
      ],
      "source": [
        "def outer_function(x):\n",
        "\n",
        "    def inner_function(y):\n",
        "        return y * 2\n",
        "\n",
        "    return inner_function(x)\n",
        "\n",
        "result = outer_function(3)\n",
        "print(result)"
      ]
    },
    {
      "cell_type": "markdown",
      "metadata": {
        "id": "Mm8YCU1w_DFh"
      },
      "source": [
        "# Python Lists\n",
        "Here are all the examples on how lists works in Python, with commonly used list methods."
      ]
    },
    {
      "cell_type": "markdown",
      "metadata": {
        "id": "H5zcfqVw_gwF"
      },
      "source": [
        "## List Declaration and Initialization"
      ]
    },
    {
      "cell_type": "markdown",
      "metadata": {
        "id": "N_cilWhnu0GD"
      },
      "source": [
        "Empty list"
      ]
    },
    {
      "cell_type": "code",
      "execution_count": null,
      "metadata": {
        "colab": {
          "base_uri": "https://localhost:8080/"
        },
        "id": "B7Tjf6sq_27p",
        "outputId": "64f9aaa0-3683-416f-eeca-54ddc3d27102"
      },
      "outputs": [
        {
          "output_type": "stream",
          "name": "stdout",
          "text": [
            "[]\n"
          ]
        }
      ],
      "source": [
        "empty_list = []\n",
        "print(empty_list)"
      ]
    },
    {
      "cell_type": "markdown",
      "metadata": {
        "id": "iQhIjK2Ku0GD"
      },
      "source": [
        "List with elements - integers"
      ]
    },
    {
      "cell_type": "code",
      "execution_count": null,
      "metadata": {
        "colab": {
          "base_uri": "https://localhost:8080/"
        },
        "id": "XozaJ1Ilu0GD",
        "outputId": "7118a1be-d394-441c-b691-97e27d37a236"
      },
      "outputs": [
        {
          "output_type": "stream",
          "name": "stdout",
          "text": [
            "<class 'list'>\n",
            "[1, 2, 3, 4, 5]\n"
          ]
        }
      ],
      "source": [
        "numbers = [1, 2, 3, 4, 5]\n",
        "print(type(numbers))\n",
        "print(numbers)"
      ]
    },
    {
      "cell_type": "markdown",
      "metadata": {
        "id": "t5hjyB5ru0GD"
      },
      "source": [
        "List with elements - strings"
      ]
    },
    {
      "cell_type": "code",
      "execution_count": null,
      "metadata": {
        "colab": {
          "base_uri": "https://localhost:8080/"
        },
        "id": "YNCMA1OZu0GD",
        "outputId": "6bed1aa7-5414-408f-b74e-ef2d61354f0b"
      },
      "outputs": [
        {
          "output_type": "stream",
          "name": "stdout",
          "text": [
            "['apple', 'banana', 'cherry']\n"
          ]
        }
      ],
      "source": [
        "fruits = [\"apple\", \"banana\", \"cherry\"]\n",
        "print(fruits)"
      ]
    },
    {
      "cell_type": "markdown",
      "metadata": {
        "id": "PIaHKS-nu0GD"
      },
      "source": [
        "Mixed-type list"
      ]
    },
    {
      "cell_type": "code",
      "execution_count": null,
      "metadata": {
        "colab": {
          "base_uri": "https://localhost:8080/"
        },
        "id": "09dYXFCxu0GD",
        "outputId": "093455b8-8d09-4b50-e001-544a0da3dc14"
      },
      "outputs": [
        {
          "output_type": "stream",
          "name": "stdout",
          "text": [
            "[1, 'hello', 3.14, True]\n"
          ]
        }
      ],
      "source": [
        "mixed_list = [1, \"hello\", 3.14, True]\n",
        "print(mixed_list)"
      ]
    },
    {
      "cell_type": "markdown",
      "metadata": {
        "id": "pfjw8LSzu0GD"
      },
      "source": [
        "Nested list"
      ]
    },
    {
      "cell_type": "code",
      "execution_count": null,
      "metadata": {
        "colab": {
          "base_uri": "https://localhost:8080/"
        },
        "id": "Y-RWdr3Ku0GD",
        "outputId": "9f9825ad-0f3b-4459-db06-a1765d977bc3"
      },
      "outputs": [
        {
          "output_type": "stream",
          "name": "stdout",
          "text": [
            "[[1, 2, 3], ['a', 'b', 'c']]\n"
          ]
        }
      ],
      "source": [
        "# nested_list = [[1, 2, 3], [\"a\", \"b\", \"c\"]]\n",
        "nested_list = [\n",
        "    [1, 2, 3],\n",
        "    [\"a\", \"b\", \"c\"]\n",
        "]\n",
        "print(nested_list)"
      ]
    },
    {
      "cell_type": "markdown",
      "metadata": {
        "id": "iIsqFZkoAE59"
      },
      "source": [
        "## Accessing Elements"
      ]
    },
    {
      "cell_type": "code",
      "execution_count": null,
      "metadata": {
        "id": "EOzh8XDLALHV"
      },
      "outputs": [],
      "source": [
        "numbers = [1, 2, 3, 4, 5]"
      ]
    },
    {
      "cell_type": "code",
      "execution_count": null,
      "metadata": {
        "colab": {
          "base_uri": "https://localhost:8080/"
        },
        "id": "oHt4nX1zu0GE",
        "outputId": "29ef20f6-f3b9-4776-d044-88b06b47359f"
      },
      "outputs": [
        {
          "output_type": "stream",
          "name": "stdout",
          "text": [
            "1\n"
          ]
        }
      ],
      "source": [
        "print(numbers[0])"
      ]
    },
    {
      "cell_type": "code",
      "execution_count": null,
      "metadata": {
        "colab": {
          "base_uri": "https://localhost:8080/"
        },
        "id": "tzUpqv1uu0GE",
        "outputId": "27c82ba6-7918-4a6f-b225-0886b724b0d3"
      },
      "outputs": [
        {
          "output_type": "stream",
          "name": "stdout",
          "text": [
            "5\n"
          ]
        }
      ],
      "source": [
        "print(numbers[-1])"
      ]
    },
    {
      "cell_type": "code",
      "execution_count": null,
      "metadata": {
        "colab": {
          "base_uri": "https://localhost:8080/"
        },
        "id": "qxLbRXZLu0GE",
        "outputId": "a556c991-cd50-4ba0-9884-f205951b8d37"
      },
      "outputs": [
        {
          "output_type": "stream",
          "name": "stdout",
          "text": [
            "3\n"
          ]
        }
      ],
      "source": [
        "print(numbers[2])"
      ]
    },
    {
      "cell_type": "code",
      "source": [
        "print(numbers[-3])"
      ],
      "metadata": {
        "colab": {
          "base_uri": "https://localhost:8080/"
        },
        "id": "E9NPnk_j5k2E",
        "outputId": "cbc2aed7-2774-4521-8483-b9e5f847bf94"
      },
      "execution_count": null,
      "outputs": [
        {
          "output_type": "stream",
          "name": "stdout",
          "text": [
            "3\n"
          ]
        }
      ]
    },
    {
      "cell_type": "code",
      "source": [
        "print(numbers[5])"
      ],
      "metadata": {
        "colab": {
          "base_uri": "https://localhost:8080/",
          "height": 141
        },
        "id": "TWpwfnqr5rQ2",
        "outputId": "6f3464bd-ce5c-4aa2-c7b9-6d2ae47b872e"
      },
      "execution_count": null,
      "outputs": [
        {
          "output_type": "error",
          "ename": "IndexError",
          "evalue": "list index out of range",
          "traceback": [
            "\u001b[0;31m---------------------------------------------------------------------------\u001b[0m",
            "\u001b[0;31mIndexError\u001b[0m                                Traceback (most recent call last)",
            "\u001b[0;32m<ipython-input-35-299294eb8d3b>\u001b[0m in \u001b[0;36m<cell line: 1>\u001b[0;34m()\u001b[0m\n\u001b[0;32m----> 1\u001b[0;31m \u001b[0mprint\u001b[0m\u001b[0;34m(\u001b[0m\u001b[0mnumbers\u001b[0m\u001b[0;34m[\u001b[0m\u001b[0;36m5\u001b[0m\u001b[0;34m]\u001b[0m\u001b[0;34m)\u001b[0m\u001b[0;34m\u001b[0m\u001b[0;34m\u001b[0m\u001b[0m\n\u001b[0m",
            "\u001b[0;31mIndexError\u001b[0m: list index out of range"
          ]
        }
      ]
    },
    {
      "cell_type": "markdown",
      "metadata": {
        "id": "i_e_BvhVAWz8"
      },
      "source": [
        "## Iterating over a list"
      ]
    },
    {
      "cell_type": "code",
      "execution_count": null,
      "metadata": {
        "colab": {
          "base_uri": "https://localhost:8080/"
        },
        "id": "WXL7ZlApAY_H",
        "outputId": "9b12e6ec-e676-4e21-8df7-cacbb84623a1"
      },
      "outputs": [
        {
          "output_type": "stream",
          "name": "stdout",
          "text": [
            "['apple', 'banana', 'cherry', 'kiwi']\n"
          ]
        }
      ],
      "source": [
        "my_list = [\"apple\", \"banana\", \"cherry\", \"kiwi\"]\n",
        "print(my_list)"
      ]
    },
    {
      "cell_type": "code",
      "execution_count": null,
      "metadata": {
        "colab": {
          "base_uri": "https://localhost:8080/"
        },
        "id": "QmRuJs4Su0GE",
        "outputId": "a36c25f2-f24f-4dec-a5a0-6efbcb8d5cdd"
      },
      "outputs": [
        {
          "output_type": "stream",
          "name": "stdout",
          "text": [
            "\n",
            "for loop via values:\n",
            "\n",
            "apple\n",
            "banana\n",
            "cherry\n",
            "kiwi\n"
          ]
        }
      ],
      "source": [
        "print(\"\\nfor loop via values:\\n\")\n",
        "\n",
        "for elem in my_list:\n",
        "    print(elem)"
      ]
    },
    {
      "cell_type": "code",
      "execution_count": null,
      "metadata": {
        "colab": {
          "base_uri": "https://localhost:8080/"
        },
        "id": "JT4L_MHlu0GE",
        "outputId": "42b2b9d1-860c-4d09-85ef-16f4fa1e15e1"
      },
      "outputs": [
        {
          "output_type": "stream",
          "name": "stdout",
          "text": [
            "\n",
            "for loop via indexes:\n",
            "\n",
            "0 apple\n",
            "1 banana\n",
            "2 cherry\n",
            "3 kiwi\n"
          ]
        }
      ],
      "source": [
        "print(\"\\nfor loop via indexes:\\n\")\n",
        "\n",
        "n = len(my_list)\n",
        "\n",
        "for i in range(n):\n",
        "    print(i, my_list[i])"
      ]
    },
    {
      "cell_type": "markdown",
      "metadata": {
        "id": "Le43A93-Ax1_"
      },
      "source": [
        "## List Concatenation and Repetition"
      ]
    },
    {
      "cell_type": "code",
      "execution_count": null,
      "metadata": {
        "colab": {
          "base_uri": "https://localhost:8080/"
        },
        "id": "p5wYknShA01C",
        "outputId": "c6054874-d57d-46b5-8343-1ba8ee713c1a"
      },
      "outputs": [
        {
          "output_type": "stream",
          "name": "stdout",
          "text": [
            "[1, 2, 3]\n",
            "[4, 5, 6]\n"
          ]
        }
      ],
      "source": [
        "list1 = [1, 2, 3]\n",
        "list2 = [4, 5, 6]\n",
        "\n",
        "print(list1)\n",
        "print(list2)"
      ]
    },
    {
      "cell_type": "markdown",
      "metadata": {
        "id": "f8JUVw27u0GE"
      },
      "source": [
        "Concatenation"
      ]
    },
    {
      "cell_type": "code",
      "execution_count": null,
      "metadata": {
        "colab": {
          "base_uri": "https://localhost:8080/"
        },
        "id": "5sZpMh4uu0GQ",
        "outputId": "b290ae70-88e7-45dd-bff7-c1e1272ab193"
      },
      "outputs": [
        {
          "output_type": "stream",
          "name": "stdout",
          "text": [
            "[1, 2, 3, 4, 5, 6]\n"
          ]
        }
      ],
      "source": [
        "combined_list = list1 + list2\n",
        "print(combined_list)"
      ]
    },
    {
      "cell_type": "markdown",
      "metadata": {
        "id": "y3T0n-huu0GQ"
      },
      "source": [
        "Repetition"
      ]
    },
    {
      "cell_type": "code",
      "execution_count": null,
      "metadata": {
        "colab": {
          "base_uri": "https://localhost:8080/"
        },
        "id": "yPTMUoLTu0GQ",
        "outputId": "ab64d789-f9e3-4fe6-8c0c-e9c13ad1530b"
      },
      "outputs": [
        {
          "output_type": "stream",
          "name": "stdout",
          "text": [
            "[1, 2, 3, 1, 2, 3, 1, 2, 3]\n"
          ]
        }
      ],
      "source": [
        "repeated_list = list1 * 3\n",
        "print(repeated_list)"
      ]
    },
    {
      "cell_type": "code",
      "source": [
        "my_results = [[]] * 5\n",
        "print(my_results)"
      ],
      "metadata": {
        "colab": {
          "base_uri": "https://localhost:8080/"
        },
        "id": "l0rJSg7l69-0",
        "outputId": "eaf1241c-480e-4373-a6c9-cade1aec9cd8"
      },
      "execution_count": null,
      "outputs": [
        {
          "output_type": "stream",
          "name": "stdout",
          "text": [
            "[[], [], [], [], []]\n"
          ]
        }
      ]
    },
    {
      "cell_type": "markdown",
      "metadata": {
        "id": "6_kO40zdA-DX"
      },
      "source": [
        "## List Comprehensions"
      ]
    },
    {
      "cell_type": "markdown",
      "metadata": {
        "id": "Qh3C1D3Nu0GR"
      },
      "source": [
        "Squares of numbers from 1 to 5"
      ]
    },
    {
      "cell_type": "code",
      "execution_count": null,
      "metadata": {
        "colab": {
          "base_uri": "https://localhost:8080/"
        },
        "id": "_jb_cnnoBCzj",
        "outputId": "06f3d642-faf7-4aec-bff4-b3c53cba57a7"
      },
      "outputs": [
        {
          "output_type": "stream",
          "name": "stdout",
          "text": [
            "[1, 4, 9, 16, 25]\n"
          ]
        }
      ],
      "source": [
        "# [1, 4, 9, 16, 25]\n",
        "\n",
        "squares = [x ** 2 for x in range(1, 6)]\n",
        "\n",
        "print(squares)"
      ]
    },
    {
      "cell_type": "markdown",
      "metadata": {
        "id": "KfOlZC45u0GR"
      },
      "source": [
        "Find the even numbers from a given list"
      ]
    },
    {
      "cell_type": "code",
      "execution_count": null,
      "metadata": {
        "colab": {
          "base_uri": "https://localhost:8080/"
        },
        "id": "DPw6kgVsu0GR",
        "outputId": "e8399b68-01db-4f39-80fe-0fb3a46d6f86"
      },
      "outputs": [
        {
          "output_type": "stream",
          "name": "stdout",
          "text": [
            "[2, 0, -10, 24]\n"
          ]
        }
      ],
      "source": [
        "# [2, 0, -10, 24]\n",
        "\n",
        "numbers = [-1, 2, 0, -10, 24, 3.2]\n",
        "\n",
        "even_nums = [num for num in numbers if num % 2 == 0]\n",
        "\n",
        "print(even_nums)"
      ]
    },
    {
      "cell_type": "markdown",
      "metadata": {
        "id": "Izt4G8GRBJ0W"
      },
      "source": [
        "## List Slicing"
      ]
    },
    {
      "cell_type": "code",
      "execution_count": null,
      "metadata": {
        "colab": {
          "base_uri": "https://localhost:8080/"
        },
        "id": "Cr0fdc4bBLZN",
        "outputId": "2ceabf13-f496-41b1-afd6-dc73998eae6c"
      },
      "outputs": [
        {
          "output_type": "stream",
          "name": "stdout",
          "text": [
            "[1, 2, 3, 4, 5]\n"
          ]
        }
      ],
      "source": [
        "numbers = [1, 2, 3, 4, 5]\n",
        "print(numbers)"
      ]
    },
    {
      "cell_type": "markdown",
      "metadata": {
        "id": "LsZTWRSdu0GR"
      },
      "source": [
        "Slicing"
      ]
    },
    {
      "cell_type": "code",
      "execution_count": null,
      "metadata": {
        "colab": {
          "base_uri": "https://localhost:8080/"
        },
        "id": "ZdisCfNTu0GR",
        "outputId": "a8147280-7359-4ea3-fef5-c2933180af18"
      },
      "outputs": [
        {
          "output_type": "stream",
          "name": "stdout",
          "text": [
            "[2, 3, 4]\n"
          ]
        }
      ],
      "source": [
        "print(numbers[1:4])"
      ]
    },
    {
      "cell_type": "markdown",
      "metadata": {
        "id": "bxNhWEXBu0GR"
      },
      "source": [
        "Negative slicing"
      ]
    },
    {
      "cell_type": "code",
      "execution_count": null,
      "metadata": {
        "colab": {
          "base_uri": "https://localhost:8080/"
        },
        "id": "OZnJbfLeu0GR",
        "outputId": "80acf016-5591-4cf8-cd5f-686eb70023a6"
      },
      "outputs": [
        {
          "output_type": "stream",
          "name": "stdout",
          "text": [
            "[3, 4]\n"
          ]
        }
      ],
      "source": [
        "print(numbers[-3:-1])"
      ]
    },
    {
      "cell_type": "markdown",
      "metadata": {
        "id": "IVPXLc9yBQ4P"
      },
      "source": [
        "## Membership Testing"
      ]
    },
    {
      "cell_type": "markdown",
      "metadata": {
        "id": "gZeL-ok5u0GR"
      },
      "source": [
        "Check if an element is in the list"
      ]
    },
    {
      "cell_type": "code",
      "execution_count": null,
      "metadata": {
        "colab": {
          "base_uri": "https://localhost:8080/"
        },
        "id": "pDK7uGR-BXMz",
        "outputId": "fa58a27c-4156-47e0-9ab3-a9f31d8e87a4"
      },
      "outputs": [
        {
          "output_type": "stream",
          "name": "stdout",
          "text": [
            "[1, 2, 3, 4, 5]\n"
          ]
        }
      ],
      "source": [
        "numbers = [1, 2, 3, 4, 5]\n",
        "print(numbers)"
      ]
    },
    {
      "cell_type": "code",
      "execution_count": null,
      "metadata": {
        "colab": {
          "base_uri": "https://localhost:8080/"
        },
        "id": "jqkYQ7BWu0GR",
        "outputId": "dc65c07c-4bab-4340-b87d-44d740f583ee"
      },
      "outputs": [
        {
          "output_type": "stream",
          "name": "stdout",
          "text": [
            "True\n"
          ]
        }
      ],
      "source": [
        "is_3_present = 3 in numbers\n",
        "print(is_3_present)"
      ]
    },
    {
      "cell_type": "code",
      "execution_count": null,
      "metadata": {
        "colab": {
          "base_uri": "https://localhost:8080/"
        },
        "id": "ZmNRsw8Mu0GR",
        "outputId": "4a2d433f-33e3-4bd4-b7ff-008e62899fac"
      },
      "outputs": [
        {
          "output_type": "stream",
          "name": "stdout",
          "text": [
            "False\n"
          ]
        }
      ],
      "source": [
        "is_7_present = 7 in numbers\n",
        "print(is_7_present)"
      ]
    },
    {
      "cell_type": "markdown",
      "metadata": {
        "id": "K_71wqGsBnVp"
      },
      "source": [
        "## List Methods"
      ]
    },
    {
      "cell_type": "markdown",
      "metadata": {
        "id": "9xAD0qhru0GS"
      },
      "source": [
        "#### Append"
      ]
    },
    {
      "cell_type": "code",
      "execution_count": null,
      "metadata": {
        "colab": {
          "base_uri": "https://localhost:8080/"
        },
        "id": "oy2ntfGzu0GS",
        "outputId": "4eb31912-fc94-40ac-f0cd-522859485e85"
      },
      "outputs": [
        {
          "output_type": "stream",
          "name": "stdout",
          "text": [
            "[1, 2, 3, 4]\n"
          ]
        }
      ],
      "source": [
        "numbers = [1, 2, 3]\n",
        "numbers.append(4)\n",
        "print(numbers)"
      ]
    },
    {
      "cell_type": "markdown",
      "metadata": {
        "id": "GyruUScLu0GS"
      },
      "source": [
        "#### Extend"
      ]
    },
    {
      "cell_type": "code",
      "execution_count": null,
      "metadata": {
        "colab": {
          "base_uri": "https://localhost:8080/"
        },
        "id": "MFBF9KSmu0GS",
        "outputId": "358bb7ef-6b7a-4a91-a4e1-a5084a8a2ebb"
      },
      "outputs": [
        {
          "output_type": "stream",
          "name": "stdout",
          "text": [
            "[1, 2, 3, 4, 5, 6]\n"
          ]
        }
      ],
      "source": [
        "numbers.extend([5, 6])\n",
        "print(numbers)"
      ]
    },
    {
      "cell_type": "markdown",
      "metadata": {
        "id": "YWauvLV-u0GS"
      },
      "source": [
        "#### Insert"
      ]
    },
    {
      "cell_type": "code",
      "execution_count": null,
      "metadata": {
        "colab": {
          "base_uri": "https://localhost:8080/"
        },
        "id": "uvosd69ou0GS",
        "outputId": "ed0896a7-d6e9-41a7-ffdd-66d9c1fe163f"
      },
      "outputs": [
        {
          "output_type": "stream",
          "name": "stdout",
          "text": [
            "[1, 2, 99, 3, 4, 5, 6]\n"
          ]
        }
      ],
      "source": [
        "numbers.insert(2, 99)\n",
        "print(numbers)"
      ]
    },
    {
      "cell_type": "markdown",
      "metadata": {
        "id": "VulRieTWu0GS"
      },
      "source": [
        "#### Remove"
      ]
    },
    {
      "cell_type": "code",
      "execution_count": null,
      "metadata": {
        "colab": {
          "base_uri": "https://localhost:8080/"
        },
        "id": "_HNQWrrXu0GS",
        "outputId": "5ded1788-ba67-46fb-8146-7136d9c7ad9b"
      },
      "outputs": [
        {
          "output_type": "stream",
          "name": "stdout",
          "text": [
            "[1, 2, 99, 4, 5, 6]\n"
          ]
        }
      ],
      "source": [
        "numbers.remove(3)\n",
        "print(numbers)"
      ]
    },
    {
      "cell_type": "markdown",
      "metadata": {
        "id": "wwEblyYDu0GS"
      },
      "source": [
        "#### Pop"
      ]
    },
    {
      "cell_type": "code",
      "execution_count": null,
      "metadata": {
        "colab": {
          "base_uri": "https://localhost:8080/"
        },
        "id": "1U7lNC6Wu0GS",
        "outputId": "32a6028c-ed2f-4efa-b06a-8a76515fe1e9"
      },
      "outputs": [
        {
          "output_type": "stream",
          "name": "stdout",
          "text": [
            "6\n",
            "[1, 2, 99, 4, 5]\n"
          ]
        }
      ],
      "source": [
        "popped = numbers.pop()\n",
        "print(popped)\n",
        "print(numbers)"
      ]
    },
    {
      "cell_type": "markdown",
      "metadata": {
        "id": "Ii9_OlFXu0GS"
      },
      "source": [
        "#### Index"
      ]
    },
    {
      "cell_type": "code",
      "execution_count": null,
      "metadata": {
        "colab": {
          "base_uri": "https://localhost:8080/"
        },
        "id": "_OsI8IT8u0GS",
        "outputId": "2c881667-f78c-4625-b194-16a66d29f460"
      },
      "outputs": [
        {
          "output_type": "stream",
          "name": "stdout",
          "text": [
            "2\n"
          ]
        }
      ],
      "source": [
        "index = numbers.index(99)\n",
        "print(index)"
      ]
    },
    {
      "cell_type": "markdown",
      "metadata": {
        "id": "w2o2wPsGu0GS"
      },
      "source": [
        "#### Count"
      ]
    },
    {
      "cell_type": "code",
      "execution_count": null,
      "metadata": {
        "colab": {
          "base_uri": "https://localhost:8080/"
        },
        "id": "ayAXPbWTu0GS",
        "outputId": "c047f49d-b5dc-449d-cebf-c3ce63dec59a"
      },
      "outputs": [
        {
          "output_type": "stream",
          "name": "stdout",
          "text": [
            "1\n"
          ]
        }
      ],
      "source": [
        "count = numbers.count(4)\n",
        "print(count)"
      ]
    },
    {
      "cell_type": "markdown",
      "metadata": {
        "id": "Zy9T29gcu0GS"
      },
      "source": [
        "#### Sort"
      ]
    },
    {
      "cell_type": "code",
      "execution_count": null,
      "metadata": {
        "colab": {
          "base_uri": "https://localhost:8080/"
        },
        "id": "wcIqXb3Vu0GS",
        "outputId": "8ae23115-81e7-4ef0-ba88-389c6ddf33af"
      },
      "outputs": [
        {
          "output_type": "stream",
          "name": "stdout",
          "text": [
            "[1, 2, 4, 5, 99]\n"
          ]
        }
      ],
      "source": [
        "numbers.sort()\n",
        "print(numbers)"
      ]
    },
    {
      "cell_type": "markdown",
      "metadata": {
        "id": "FXGqZTYlu0GT"
      },
      "source": [
        "#### Reverse"
      ]
    },
    {
      "cell_type": "code",
      "execution_count": null,
      "metadata": {
        "colab": {
          "base_uri": "https://localhost:8080/"
        },
        "id": "FTG-ePgAu0GT",
        "outputId": "721d5de8-e60e-4237-b700-6311a03e9299"
      },
      "outputs": [
        {
          "output_type": "stream",
          "name": "stdout",
          "text": [
            "[99, 5, 4, 2, 1]\n"
          ]
        }
      ],
      "source": [
        "numbers.reverse()\n",
        "print(numbers)"
      ]
    },
    {
      "cell_type": "markdown",
      "metadata": {
        "id": "k3QgNeD4u0GT"
      },
      "source": [
        "#### Copy"
      ]
    },
    {
      "cell_type": "code",
      "execution_count": null,
      "metadata": {
        "colab": {
          "base_uri": "https://localhost:8080/"
        },
        "id": "hHtasa-ju0GT",
        "outputId": "a3730047-b3c1-434a-c948-847f32376008"
      },
      "outputs": [
        {
          "output_type": "stream",
          "name": "stdout",
          "text": [
            "[99, 5, 4, 2, 1]\n"
          ]
        }
      ],
      "source": [
        "numbers_copy = numbers.copy()\n",
        "\n",
        "print(numbers_copy)"
      ]
    },
    {
      "cell_type": "code",
      "source": [
        "numbers.append(4)\n",
        "print(numbers)"
      ],
      "metadata": {
        "colab": {
          "base_uri": "https://localhost:8080/"
        },
        "id": "sPPfTibi-Rx0",
        "outputId": "a69ac315-8a03-4d7f-8d47-d929c62b6344"
      },
      "execution_count": null,
      "outputs": [
        {
          "output_type": "stream",
          "name": "stdout",
          "text": [
            "[99, 5, 4, 2, 1, 4]\n"
          ]
        }
      ]
    },
    {
      "cell_type": "code",
      "source": [
        "print(numbers.count(100))"
      ],
      "metadata": {
        "colab": {
          "base_uri": "https://localhost:8080/"
        },
        "id": "9Wdgs7RE-mbV",
        "outputId": "0749270d-a314-48b7-cd64-07da3f4602bf"
      },
      "execution_count": null,
      "outputs": [
        {
          "output_type": "stream",
          "name": "stdout",
          "text": [
            "0\n"
          ]
        }
      ]
    },
    {
      "cell_type": "markdown",
      "metadata": {
        "id": "JScPqPvOCR8T"
      },
      "source": [
        "## Coding Questions"
      ]
    },
    {
      "cell_type": "markdown",
      "metadata": {
        "id": "FnTX5InzC2ZM"
      },
      "source": [
        "### Greet People differently\n",
        "Write a function that takes two parameters - a list of names and a default greeting message. The function should print a personalized greeting for each name using the provided or default greeting."
      ]
    },
    {
      "cell_type": "code",
      "execution_count": null,
      "metadata": {
        "id": "ysVlbiBKDM0g"
      },
      "outputs": [],
      "source": [
        "def greet_people(names, greeting=\"Hello\"):\n",
        "    for name in names:\n",
        "        print(f\"{greeting}, {name}\")"
      ]
    },
    {
      "cell_type": "code",
      "execution_count": null,
      "metadata": {
        "colab": {
          "base_uri": "https://localhost:8080/"
        },
        "id": "jhSsSfgGu0GT",
        "outputId": "8faa8da1-75dc-433f-d59a-9f0366006332"
      },
      "outputs": [
        {
          "output_type": "stream",
          "name": "stdout",
          "text": [
            "Hello, Alice\n",
            "Hello, Bob\n",
            "Hello, Charlie\n",
            "Hi, Alice\n",
            "Hi, Bob\n",
            "Hi, Charlie\n"
          ]
        }
      ],
      "source": [
        "# Test case\n",
        "\n",
        "name_list = [\"Alice\", \"Bob\", \"Charlie\"]\n",
        "\n",
        "greet_people(name_list)  # Should print default greetings\n",
        "\n",
        "greet_people(name_list, \"Hi\")  # Should print personalized greetings with \"Hi\""
      ]
    },
    {
      "cell_type": "markdown",
      "metadata": {
        "id": "nqLW9jCuDae-"
      },
      "source": [
        "### Average of given numbers\n",
        "Write a function called average that takes a variable number of arguments and returns the average of those arguments.\n",
        "\n"
      ]
    },
    {
      "cell_type": "code",
      "execution_count": null,
      "metadata": {
        "id": "RycKOyINDjWB"
      },
      "outputs": [],
      "source": [
        "def average(*args):\n",
        "    sum_of_nums = 0\n",
        "    for num in args:\n",
        "        sum_of_nums += num\n",
        "    ave = sum_of_nums / len(args)\n",
        "    return ave"
      ]
    },
    {
      "cell_type": "code",
      "execution_count": null,
      "metadata": {
        "colab": {
          "base_uri": "https://localhost:8080/"
        },
        "id": "_uDeRaXju0GT",
        "outputId": "44e407ff-2ddf-4976-bab4-6209ba1ca1bb"
      },
      "outputs": [
        {
          "output_type": "stream",
          "name": "stdout",
          "text": [
            "3.0\n"
          ]
        }
      ],
      "source": [
        "# Test case 1\n",
        "\n",
        "result = average(1, 2, 3, 4, 5)\n",
        "\n",
        "print(result)  # Expected output: 3.0"
      ]
    },
    {
      "cell_type": "code",
      "execution_count": null,
      "metadata": {
        "colab": {
          "base_uri": "https://localhost:8080/"
        },
        "id": "2ffP_VPiu0GT",
        "outputId": "aa0cae9a-99c1-408d-cbcd-0227bb9bc6d2"
      },
      "outputs": [
        {
          "output_type": "stream",
          "name": "stdout",
          "text": [
            "0.0\n"
          ]
        }
      ],
      "source": [
        "# Test case 2\n",
        "\n",
        "result = average(-1, 0, 1)\n",
        "\n",
        "print(result)  # Expected output: 0.0"
      ]
    },
    {
      "cell_type": "markdown",
      "metadata": {
        "id": "YwkR8C0FFUng"
      },
      "source": [
        "### Find Duplicates\n",
        "Write a program to find whether the list has duplicates or not."
      ]
    },
    {
      "cell_type": "code",
      "execution_count": null,
      "metadata": {
        "id": "8vmuAiK1FfKe"
      },
      "outputs": [],
      "source": [
        "def find_dup(my_list):\n",
        "    for item in my_list:\n",
        "        if my_list.count(item) > 1:\n",
        "            return True\n",
        "    return False"
      ]
    },
    {
      "cell_type": "code",
      "source": [
        "new_list = [x for x in my_list if my_list.count(x) > 1]\n",
        "if len(new_list) > 1:\n",
        "    return True\n",
        "return False\n",
        "print(new_list)"
      ],
      "metadata": {
        "colab": {
          "base_uri": "https://localhost:8080/"
        },
        "id": "I5i_cVoADuJf",
        "outputId": "bf9fe577-5c43-49cd-f6c0-c1f273f80499"
      },
      "execution_count": null,
      "outputs": [
        {
          "output_type": "stream",
          "name": "stdout",
          "text": [
            "[1, 1]\n"
          ]
        }
      ]
    },
    {
      "cell_type": "code",
      "execution_count": null,
      "metadata": {
        "colab": {
          "base_uri": "https://localhost:8080/"
        },
        "id": "MuXB00W_u0GT",
        "outputId": "0f240d47-932c-4c25-8320-faa44dcd6f91"
      },
      "outputs": [
        {
          "output_type": "stream",
          "name": "stdout",
          "text": [
            "False\n"
          ]
        }
      ],
      "source": [
        "# Test case 1\n",
        "\n",
        "my_list = [1, 2, 3, 4, 9, 10, 15]\n",
        "\n",
        "print(find_dup(my_list))"
      ]
    },
    {
      "cell_type": "code",
      "execution_count": null,
      "metadata": {
        "colab": {
          "base_uri": "https://localhost:8080/"
        },
        "id": "cDWMdn9hu0GT",
        "outputId": "91b62008-5792-4ffd-90d7-6e8c5b0330e8"
      },
      "outputs": [
        {
          "output_type": "stream",
          "name": "stdout",
          "text": [
            "True\n"
          ]
        }
      ],
      "source": [
        "# Test case 2\n",
        "\n",
        "my_list = [1, 2, 3, 1, 0]\n",
        "\n",
        "print(find_dup(my_list))"
      ]
    },
    {
      "cell_type": "markdown",
      "metadata": {
        "id": "M-0fKwcPEHhh"
      },
      "source": [
        "# Python Strings\n",
        "Here are some examples on strings in Python and commonly used string methods."
      ]
    },
    {
      "cell_type": "markdown",
      "metadata": {
        "id": "BjXRbFPWGhz9"
      },
      "source": [
        "## String Declaration and Concatenation"
      ]
    },
    {
      "cell_type": "markdown",
      "metadata": {
        "id": "T5n6-MYou0GU"
      },
      "source": [
        "#### String Declaration"
      ]
    },
    {
      "cell_type": "code",
      "execution_count": null,
      "metadata": {
        "colab": {
          "base_uri": "https://localhost:8080/"
        },
        "id": "4vu75DKNG0Ch",
        "outputId": "56922bb2-1f4c-4ae7-b3ad-9b753827f257"
      },
      "outputs": [
        {
          "output_type": "stream",
          "name": "stdout",
          "text": [
            "Hello\n",
            "World\n"
          ]
        }
      ],
      "source": [
        "string1 = \"Hello\"\n",
        "string2 = 'World'\n",
        "\n",
        "print(string1)\n",
        "print(string2)"
      ]
    },
    {
      "cell_type": "markdown",
      "metadata": {
        "id": "i0iZLqIDu0GU"
      },
      "source": [
        "#### String Concatenation"
      ]
    },
    {
      "cell_type": "code",
      "execution_count": null,
      "metadata": {
        "colab": {
          "base_uri": "https://localhost:8080/"
        },
        "id": "6JF8tOZAu0GU",
        "outputId": "de6b8c28-efc2-4351-e349-0c24cd03519e"
      },
      "outputs": [
        {
          "output_type": "stream",
          "name": "stdout",
          "text": [
            "Hello World\n"
          ]
        }
      ],
      "source": [
        "result = string1 + \" \" + string2\n",
        "print(result)  # Output: Hello World"
      ]
    },
    {
      "cell_type": "markdown",
      "metadata": {
        "id": "P1SO3r85G3s5"
      },
      "source": [
        "##  String Indexing and Slicing"
      ]
    },
    {
      "cell_type": "code",
      "execution_count": null,
      "metadata": {
        "colab": {
          "base_uri": "https://localhost:8080/"
        },
        "id": "SYGMGuqrG88k",
        "outputId": "d3d613d3-bb92-4db1-e5ad-2e9639467608"
      },
      "outputs": [
        {
          "output_type": "stream",
          "name": "stdout",
          "text": [
            "Python\n"
          ]
        }
      ],
      "source": [
        "my_string = \"Python\"\n",
        "print(my_string)"
      ]
    },
    {
      "cell_type": "markdown",
      "metadata": {
        "id": "WiAP3kn9u0GU"
      },
      "source": [
        "#### Indexing"
      ]
    },
    {
      "cell_type": "code",
      "execution_count": null,
      "metadata": {
        "colab": {
          "base_uri": "https://localhost:8080/"
        },
        "id": "yTdpkuDMu0GU",
        "outputId": "12dec09a-88c3-4477-fafa-a3fe216ed506"
      },
      "outputs": [
        {
          "output_type": "stream",
          "name": "stdout",
          "text": [
            "first char: P\n",
            "last char: n\n"
          ]
        }
      ],
      "source": [
        "first_char = my_string[0]\n",
        "last_char = my_string[-1]\n",
        "\n",
        "print(\"first char:\", first_char)\n",
        "print(\"last char:\", last_char)"
      ]
    },
    {
      "cell_type": "markdown",
      "metadata": {
        "id": "Xwtau4G1u0GU"
      },
      "source": [
        "#### Slicing"
      ]
    },
    {
      "cell_type": "code",
      "execution_count": null,
      "metadata": {
        "colab": {
          "base_uri": "https://localhost:8080/"
        },
        "id": "5tahnwjIu0GU",
        "outputId": "913c018c-1990-4042-c490-8681938b776b"
      },
      "outputs": [
        {
          "output_type": "stream",
          "name": "stdout",
          "text": [
            "substring: yth\n"
          ]
        }
      ],
      "source": [
        "substring = my_string[1:4]\n",
        "\n",
        "print(\"substring:\", substring)"
      ]
    },
    {
      "cell_type": "markdown",
      "metadata": {
        "id": "FVjBIb8iHYn1"
      },
      "source": [
        "## String Length"
      ]
    },
    {
      "cell_type": "code",
      "execution_count": null,
      "metadata": {
        "colab": {
          "base_uri": "https://localhost:8080/"
        },
        "id": "D0L98ZGdHbD-",
        "outputId": "fd3f2124-7f23-4cce-c825-1a5e2ef6e3c1"
      },
      "outputs": [
        {
          "output_type": "stream",
          "name": "stdout",
          "text": [
            "13\n"
          ]
        }
      ],
      "source": [
        "my_string = \"Hello, World!\"\n",
        "\n",
        "length = len(my_string)\n",
        "\n",
        "print(length)"
      ]
    },
    {
      "cell_type": "markdown",
      "metadata": {
        "id": "xk814KCGHc7C"
      },
      "source": [
        "## String Methods"
      ]
    },
    {
      "cell_type": "code",
      "execution_count": null,
      "metadata": {
        "colab": {
          "base_uri": "https://localhost:8080/"
        },
        "id": "kXtQVYYTHh-y",
        "outputId": "d14e19c2-a5d1-4fb9-8358-daa35a0a0eb4"
      },
      "outputs": [
        {
          "output_type": "stream",
          "name": "stdout",
          "text": [
            "   Hello, World!   \n"
          ]
        }
      ],
      "source": [
        "my_string = \"   Hello, World!   \"\n",
        "print(my_string)"
      ]
    },
    {
      "cell_type": "markdown",
      "metadata": {
        "id": "4ZuOXAQ2u0GU"
      },
      "source": [
        "#### strip whitespace"
      ]
    },
    {
      "cell_type": "code",
      "execution_count": null,
      "metadata": {
        "colab": {
          "base_uri": "https://localhost:8080/"
        },
        "id": "Sr60YYt6u0GU",
        "outputId": "e4b1dcb3-7510-419c-fd82-5954fa217f36"
      },
      "outputs": [
        {
          "output_type": "stream",
          "name": "stdout",
          "text": [
            "Hello, World!\n"
          ]
        }
      ],
      "source": [
        "stripped_string = my_string.strip()\n",
        "print(stripped_string)"
      ]
    },
    {
      "cell_type": "markdown",
      "metadata": {
        "id": "U1-HbJMIu0GV"
      },
      "source": [
        "#### lowercase and uppercase"
      ]
    },
    {
      "cell_type": "code",
      "execution_count": null,
      "metadata": {
        "colab": {
          "base_uri": "https://localhost:8080/"
        },
        "id": "LKVGpnfdu0GV",
        "outputId": "cd1fb735-90e7-4485-8a5b-b8589acd712c"
      },
      "outputs": [
        {
          "output_type": "stream",
          "name": "stdout",
          "text": [
            "   hello, world!   \n",
            "   HELLO, WORLD!   \n"
          ]
        }
      ],
      "source": [
        "lowercase = my_string.lower()\n",
        "uppercase = my_string.upper()\n",
        "\n",
        "print(lowercase)\n",
        "print(uppercase)"
      ]
    },
    {
      "cell_type": "markdown",
      "metadata": {
        "id": "AS6LI6kFu0GV"
      },
      "source": [
        "#### Replace"
      ]
    },
    {
      "cell_type": "code",
      "execution_count": null,
      "metadata": {
        "colab": {
          "base_uri": "https://localhost:8080/"
        },
        "id": "icTCFwEAu0GV",
        "outputId": "1b6c5674-7be1-4f7b-f098-7d6e120c2110"
      },
      "outputs": [
        {
          "output_type": "stream",
          "name": "stdout",
          "text": [
            "   Hi, World!   \n"
          ]
        }
      ],
      "source": [
        "new_string = my_string.replace(\"Hello\", \"Hi\")\n",
        "print(new_string)"
      ]
    },
    {
      "cell_type": "markdown",
      "metadata": {
        "id": "4QBorJfyH62M"
      },
      "source": [
        "### Count Substring occurrences"
      ]
    },
    {
      "cell_type": "code",
      "execution_count": null,
      "metadata": {
        "id": "JZJMXMT_H-NM"
      },
      "outputs": [],
      "source": [
        "my_string = \"abracadabraarar\"\n",
        "substring = \"ra\""
      ]
    },
    {
      "cell_type": "code",
      "execution_count": null,
      "metadata": {
        "colab": {
          "base_uri": "https://localhost:8080/"
        },
        "id": "69fVM_Ndu0GV",
        "outputId": "a731c83d-1942-4d17-ebff-f3e098475198"
      },
      "outputs": [
        {
          "output_type": "stream",
          "name": "stdout",
          "text": [
            "3\n"
          ]
        }
      ],
      "source": [
        "count_occurrences = my_string.count(substring)\n",
        "print(count_occurrences)"
      ]
    },
    {
      "cell_type": "markdown",
      "metadata": {
        "id": "NQ6LPvCiu0GV"
      },
      "source": [
        "#### Start searching from given index"
      ]
    },
    {
      "cell_type": "code",
      "execution_count": null,
      "metadata": {
        "colab": {
          "base_uri": "https://localhost:8080/"
        },
        "id": "gJqI2qIZu0GV",
        "outputId": "3acaec35-e1ae-430f-8124-bd473107e128"
      },
      "outputs": [
        {
          "output_type": "stream",
          "name": "stdout",
          "text": [
            "2\n"
          ]
        }
      ],
      "source": [
        "count_occurrences = my_string.count(substring, 5)\n",
        "print(count_occurrences)"
      ]
    },
    {
      "cell_type": "markdown",
      "metadata": {
        "id": "LjDIvI8CIAa-"
      },
      "source": [
        "### Check Start and End"
      ]
    },
    {
      "cell_type": "code",
      "execution_count": null,
      "metadata": {
        "colab": {
          "base_uri": "https://localhost:8080/"
        },
        "id": "VT9SU95VIJJ8",
        "outputId": "4c85acba-edd2-42d0-8cf3-bf7f56216790"
      },
      "outputs": [
        {
          "output_type": "stream",
          "name": "stdout",
          "text": [
            "Hello, World!\n"
          ]
        }
      ],
      "source": [
        "my_string = \"Hello, World!\"\n",
        "print(my_string)"
      ]
    },
    {
      "cell_type": "code",
      "execution_count": null,
      "metadata": {
        "colab": {
          "base_uri": "https://localhost:8080/"
        },
        "id": "Xa5iKrp8u0GV",
        "outputId": "aa33e6d2-26c0-48a3-f4a1-7c59af2ccb68"
      },
      "outputs": [
        {
          "output_type": "stream",
          "name": "stdout",
          "text": [
            "True\n"
          ]
        }
      ],
      "source": [
        "starts_with_hello = my_string.startswith(\"Hello\")\n",
        "print(starts_with_hello)"
      ]
    },
    {
      "cell_type": "code",
      "execution_count": null,
      "metadata": {
        "colab": {
          "base_uri": "https://localhost:8080/"
        },
        "id": "YDDv5LIWu0GV",
        "outputId": "3a7a10ac-cf9e-40da-dd8d-3ca3d476705d"
      },
      "outputs": [
        {
          "output_type": "stream",
          "name": "stdout",
          "text": [
            "False\n"
          ]
        }
      ],
      "source": [
        "ends_with_world = my_string.endswith(\"World-wide!\")\n",
        "print(ends_with_world)"
      ]
    },
    {
      "cell_type": "markdown",
      "metadata": {
        "id": "r-FbK_5wIOq8"
      },
      "source": [
        "### Check Character Types"
      ]
    },
    {
      "cell_type": "code",
      "execution_count": null,
      "metadata": {
        "id": "bYmJsncIu0GV"
      },
      "outputs": [],
      "source": [
        "my_string = \"abc123\""
      ]
    },
    {
      "cell_type": "markdown",
      "metadata": {
        "id": "0NPbXXgHu0GV"
      },
      "source": [
        "#### Check if all characters are alphanumeric"
      ]
    },
    {
      "cell_type": "code",
      "execution_count": null,
      "metadata": {
        "colab": {
          "base_uri": "https://localhost:8080/"
        },
        "id": "H9mntGuzu0GV",
        "outputId": "86924705-bffb-48d3-c737-8774cf063ac9"
      },
      "outputs": [
        {
          "output_type": "stream",
          "name": "stdout",
          "text": [
            "True\n"
          ]
        }
      ],
      "source": [
        "is_alphanumeric = my_string.isalnum()\n",
        "print(is_alphanumeric)"
      ]
    },
    {
      "cell_type": "markdown",
      "metadata": {
        "id": "Y_P0dGbLu0GV"
      },
      "source": [
        "#### Check if all characters are alphabetic"
      ]
    },
    {
      "cell_type": "code",
      "execution_count": null,
      "metadata": {
        "colab": {
          "base_uri": "https://localhost:8080/"
        },
        "id": "qlrZ9Og7u0GV",
        "outputId": "aa3f9d57-1c9c-4a69-f0a0-70388bbcea02"
      },
      "outputs": [
        {
          "output_type": "stream",
          "name": "stdout",
          "text": [
            "False\n"
          ]
        }
      ],
      "source": [
        "is_alpha = my_string.isalpha()\n",
        "print(is_alpha)"
      ]
    },
    {
      "cell_type": "markdown",
      "metadata": {
        "id": "FyTEznNhu0GV"
      },
      "source": [
        "#### Check if all characters are digits"
      ]
    },
    {
      "cell_type": "code",
      "execution_count": null,
      "metadata": {
        "colab": {
          "base_uri": "https://localhost:8080/"
        },
        "id": "nnXh74Dku0GW",
        "outputId": "cc1c6a71-de42-4703-88de-4e1f39a1c9d8"
      },
      "outputs": [
        {
          "output_type": "stream",
          "name": "stdout",
          "text": [
            "False\n"
          ]
        }
      ],
      "source": [
        "is_digit = my_string.isdigit()\n",
        "print(is_digit)"
      ]
    },
    {
      "cell_type": "markdown",
      "metadata": {
        "id": "c3DW0-gdIkL0"
      },
      "source": [
        "### String Capitalization"
      ]
    },
    {
      "cell_type": "code",
      "execution_count": null,
      "metadata": {
        "colab": {
          "base_uri": "https://localhost:8080/"
        },
        "id": "T397blgLu0GW",
        "outputId": "bba25cd2-ccf9-4a7c-9c17-14fcbba60885"
      },
      "outputs": [
        {
          "output_type": "stream",
          "name": "stdout",
          "text": [
            "hello world\n"
          ]
        }
      ],
      "source": [
        "my_string = \"hello world\"\n",
        "print(my_string)"
      ]
    },
    {
      "cell_type": "markdown",
      "metadata": {
        "id": "D-zCqVziu0GW"
      },
      "source": [
        "#### Capitalize the first letter of the string"
      ]
    },
    {
      "cell_type": "code",
      "execution_count": null,
      "metadata": {
        "colab": {
          "base_uri": "https://localhost:8080/"
        },
        "id": "5v6O2aetu0GW",
        "outputId": "d38f418d-5008-4704-cfeb-72b49799a5dc"
      },
      "outputs": [
        {
          "output_type": "stream",
          "name": "stdout",
          "text": [
            "Hello world\n"
          ]
        }
      ],
      "source": [
        "capitalized_string = my_string.capitalize()\n",
        "print(capitalized_string)"
      ]
    },
    {
      "cell_type": "markdown",
      "metadata": {
        "id": "jiAToGN4u0GW"
      },
      "source": [
        "#### Title case (capitalize the first letter of each word)"
      ]
    },
    {
      "cell_type": "code",
      "execution_count": null,
      "metadata": {
        "colab": {
          "base_uri": "https://localhost:8080/"
        },
        "id": "3ysAN-xfIrXX",
        "outputId": "887ea01b-a36d-4d2a-8c63-704eb7df251d"
      },
      "outputs": [
        {
          "output_type": "stream",
          "name": "stdout",
          "text": [
            "Hello World\n"
          ]
        }
      ],
      "source": [
        "title_case_string = my_string.title()\n",
        "print(title_case_string)"
      ]
    },
    {
      "cell_type": "markdown",
      "metadata": {
        "id": "BdABgQfmJYP-"
      },
      "source": [
        "## String Formatting"
      ]
    },
    {
      "cell_type": "code",
      "execution_count": null,
      "metadata": {
        "id": "qsj8Iekku0GW"
      },
      "outputs": [],
      "source": [
        "name = \"Alice\"\n",
        "age = 30\n",
        "\n",
        "# show = My name is Alice and I am 30 years old."
      ]
    },
    {
      "cell_type": "markdown",
      "metadata": {
        "id": "FrR8hssmu0GW"
      },
      "source": [
        "#### f-string"
      ]
    },
    {
      "cell_type": "code",
      "execution_count": null,
      "metadata": {
        "colab": {
          "base_uri": "https://localhost:8080/"
        },
        "id": "QlRRPhA8Jcf1",
        "outputId": "1c10edc4-488e-471b-c6a0-ff0fbdd47530"
      },
      "outputs": [
        {
          "output_type": "stream",
          "name": "stdout",
          "text": [
            "My name is Alice and I am 30 years old.\n"
          ]
        }
      ],
      "source": [
        "f_string = f\"My name is {name} and I am {age} years old.\"\n",
        "print(f_string)"
      ]
    },
    {
      "cell_type": "markdown",
      "metadata": {
        "id": "pofDZiqvu0GW"
      },
      "source": [
        "#### Concatenation"
      ]
    },
    {
      "cell_type": "code",
      "execution_count": null,
      "metadata": {
        "colab": {
          "base_uri": "https://localhost:8080/"
        },
        "id": "GGhkLPXbu0GW",
        "outputId": "78e53586-c5a3-47de-83c0-f2b55f928020"
      },
      "outputs": [
        {
          "output_type": "stream",
          "name": "stdout",
          "text": [
            "My name is Alice and I am 30 years old.\n"
          ]
        }
      ],
      "source": [
        "concatenated_string = \"My name is \" + name + \" and I am \" + str(age) + \" years old.\"\n",
        "print(concatenated_string)"
      ]
    },
    {
      "cell_type": "markdown",
      "metadata": {
        "id": "mG8jjq8Zu0GW"
      },
      "source": [
        "#### format()"
      ]
    },
    {
      "cell_type": "code",
      "execution_count": null,
      "metadata": {
        "colab": {
          "base_uri": "https://localhost:8080/"
        },
        "id": "ZJcPjXGQu0GW",
        "outputId": "3e013fb0-4d63-4c13-9cbb-e966b4b3224a"
      },
      "outputs": [
        {
          "output_type": "stream",
          "name": "stdout",
          "text": [
            "My name is Alice and I am 30 years old.\n"
          ]
        }
      ],
      "source": [
        "formatted_string = \"My name is {} and I am {} years old.\".format(name, age)\n",
        "print(formatted_string)"
      ]
    },
    {
      "cell_type": "markdown",
      "metadata": {
        "id": "teJ-0Dutu0GW"
      },
      "source": [
        "#### Using %"
      ]
    },
    {
      "cell_type": "code",
      "execution_count": null,
      "metadata": {
        "colab": {
          "base_uri": "https://localhost:8080/"
        },
        "id": "w62lwDATu0GW",
        "outputId": "b6122dfa-0db8-457b-8ad3-cc4cb5867454"
      },
      "outputs": [
        {
          "output_type": "stream",
          "name": "stdout",
          "text": [
            "My name is Alice and I am 30 years old.\n"
          ]
        }
      ],
      "source": [
        "percent_formatted_string = \"My name is %s and I am %d years old.\" % (name, age)\n",
        "print(percent_formatted_string)"
      ]
    },
    {
      "cell_type": "markdown",
      "metadata": {
        "id": "5xtnL-sAJet3"
      },
      "source": [
        "## String Splitting and Joining"
      ]
    },
    {
      "cell_type": "code",
      "execution_count": null,
      "metadata": {
        "colab": {
          "base_uri": "https://localhost:8080/"
        },
        "id": "pBBpNt0QJjxU",
        "outputId": "fc01124d-e851-4457-b407-5d55f12df2c3"
      },
      "outputs": [
        {
          "output_type": "stream",
          "name": "stdout",
          "text": [
            "apple,orange,banana\n"
          ]
        }
      ],
      "source": [
        "my_string = \"apple,orange,banana\"\n",
        "print(my_string)"
      ]
    },
    {
      "cell_type": "code",
      "source": [
        "partitioned_string = my_string.partition(\"orange\")\n",
        "print(partitioned_string)"
      ],
      "metadata": {
        "colab": {
          "base_uri": "https://localhost:8080/"
        },
        "id": "CFgsJGqcTIYT",
        "outputId": "1c6e5caa-f955-43b4-b311-120f4391429f"
      },
      "execution_count": null,
      "outputs": [
        {
          "output_type": "stream",
          "name": "stdout",
          "text": [
            "('apple,', 'orange', ',banana')\n"
          ]
        }
      ]
    },
    {
      "cell_type": "markdown",
      "metadata": {
        "id": "gXh7R-IZu0GW"
      },
      "source": [
        "#### Split string into a list"
      ]
    },
    {
      "cell_type": "code",
      "execution_count": null,
      "metadata": {
        "colab": {
          "base_uri": "https://localhost:8080/"
        },
        "id": "W1H8UHK5u0GX",
        "outputId": "59965901-ec79-4f4b-ea72-d716d7ed4628"
      },
      "outputs": [
        {
          "output_type": "stream",
          "name": "stdout",
          "text": [
            "['apple', 'orange', 'banana']\n"
          ]
        }
      ],
      "source": [
        "fruits_list = my_string.split(',')\n",
        "print(fruits_list)"
      ]
    },
    {
      "cell_type": "markdown",
      "metadata": {
        "id": "zNaZl-m8u0GX"
      },
      "source": [
        "#### Join list elements into a string"
      ]
    },
    {
      "cell_type": "code",
      "execution_count": null,
      "metadata": {
        "colab": {
          "base_uri": "https://localhost:8080/"
        },
        "id": "XwU81yXsu0GX",
        "outputId": "e3a1a7e1-327e-468f-d143-8896bed1f1f4"
      },
      "outputs": [
        {
          "output_type": "stream",
          "name": "stdout",
          "text": [
            "apple-orange-banana\n"
          ]
        }
      ],
      "source": [
        "new_string = '-'.join(fruits_list)\n",
        "print(new_string)"
      ]
    },
    {
      "cell_type": "markdown",
      "metadata": {
        "id": "v273d6lsJo22"
      },
      "source": [
        "## Checking Substrings"
      ]
    },
    {
      "cell_type": "code",
      "execution_count": null,
      "metadata": {
        "colab": {
          "base_uri": "https://localhost:8080/"
        },
        "id": "GpDdmkw4u0GX",
        "outputId": "e41d2c4c-6a8d-40a9-a184-946d10e45d08"
      },
      "outputs": [
        {
          "output_type": "stream",
          "name": "stdout",
          "text": [
            "The quick brown fox jumps over the lazy dog\n"
          ]
        }
      ],
      "source": [
        "sentence = \"The quick brown fox jumps over the lazy dog\"\n",
        "print(sentence)"
      ]
    },
    {
      "cell_type": "markdown",
      "metadata": {
        "id": "xYuysN5du0GX"
      },
      "source": [
        "#### Check if a substring is present"
      ]
    },
    {
      "cell_type": "code",
      "execution_count": null,
      "metadata": {
        "colab": {
          "base_uri": "https://localhost:8080/"
        },
        "id": "PGkaN6Owu0GX",
        "outputId": "0367fc4b-2102-4dec-b8f8-282402a2756a"
      },
      "outputs": [
        {
          "output_type": "stream",
          "name": "stdout",
          "text": [
            "True\n"
          ]
        }
      ],
      "source": [
        "contains_fox = \"fox\" in sentence\n",
        "print(contains_fox)"
      ]
    },
    {
      "cell_type": "code",
      "execution_count": null,
      "metadata": {
        "colab": {
          "base_uri": "https://localhost:8080/"
        },
        "id": "E3ocu2sRu0GX",
        "outputId": "1970504d-7a55-4c70-b812-848a73149fa6"
      },
      "outputs": [
        {
          "output_type": "stream",
          "name": "stdout",
          "text": [
            "False\n"
          ]
        }
      ],
      "source": [
        "contains_cat = \"cat\" in sentence\n",
        "print(contains_cat)"
      ]
    },
    {
      "cell_type": "markdown",
      "metadata": {
        "id": "olH99WZPu0GX"
      },
      "source": [
        "#### Find the index of a substring"
      ]
    },
    {
      "cell_type": "code",
      "execution_count": null,
      "metadata": {
        "colab": {
          "base_uri": "https://localhost:8080/"
        },
        "id": "ZXkp_vwOJrpp",
        "outputId": "84935f5e-e721-4bc8-b9e8-405b3b2de093"
      },
      "outputs": [
        {
          "output_type": "stream",
          "name": "stdout",
          "text": [
            "10\n"
          ]
        }
      ],
      "source": [
        "index_of_brown = sentence.find(\"brown\")\n",
        "print(index_of_brown)"
      ]
    },
    {
      "cell_type": "markdown",
      "metadata": {
        "id": "UzmfC2zZKOXA"
      },
      "source": [
        "## Escape Characters\n",
        "Escape characters in Python are special characters preceded by a backslash (\\\\) and they are used to represent characters that are difficult to input directly or might be misinterpreted. Here are some commonly used escape characters along with examples:"
      ]
    },
    {
      "cell_type": "markdown",
      "metadata": {
        "id": "jczyyvWRKYVC"
      },
      "source": [
        "### NewLine (`\\n`)\n",
        "Inserts a newline character"
      ]
    },
    {
      "cell_type": "code",
      "execution_count": null,
      "metadata": {
        "colab": {
          "base_uri": "https://localhost:8080/"
        },
        "id": "LRrwKrklKd40",
        "outputId": "551de35f-d309-4039-92c2-7f11e2c44a58"
      },
      "outputs": [
        {
          "output_type": "stream",
          "name": "stdout",
          "text": [
            "This is a line.\n",
            "This is a new line.\n"
          ]
        }
      ],
      "source": [
        "multiline_string = \"This is a line.\\nThis is a new line.\"\n",
        "print(multiline_string)"
      ]
    },
    {
      "cell_type": "markdown",
      "metadata": {
        "id": "pfPDc06cKfds"
      },
      "source": [
        "### Tab (`\\t`)\n",
        "Inserts a tab character"
      ]
    },
    {
      "cell_type": "code",
      "execution_count": null,
      "metadata": {
        "colab": {
          "base_uri": "https://localhost:8080/"
        },
        "id": "VGJ3KgZ-Ki8k",
        "outputId": "29e3ee68-ff76-4914-8cc3-dd16af7ad623"
      },
      "outputs": [
        {
          "output_type": "stream",
          "name": "stdout",
          "text": [
            "This is a\ttabbed line.\n"
          ]
        }
      ],
      "source": [
        "indented_string = \"This is a\\ttabbed line.\"\n",
        "print(indented_string)"
      ]
    },
    {
      "cell_type": "markdown",
      "metadata": {
        "id": "KuKX8D6vKmed"
      },
      "source": [
        "### Backslash (`\\\\`)\n",
        "Inserts a literal backslash"
      ]
    },
    {
      "cell_type": "code",
      "execution_count": null,
      "metadata": {
        "colab": {
          "base_uri": "https://localhost:8080/"
        },
        "id": "GW_Lk2W5KsNy",
        "outputId": "4ea38a69-25d1-423e-f988-77d29251d447"
      },
      "outputs": [
        {
          "output_type": "stream",
          "name": "stdout",
          "text": [
            "This is a backslash: \\\n"
          ]
        }
      ],
      "source": [
        "backslash_string = \"This is a backslash: \\\\\"\n",
        "print(backslash_string)"
      ]
    },
    {
      "cell_type": "markdown",
      "metadata": {
        "id": "OImpzhH1K5KA"
      },
      "source": [
        "### Single Quote (\\') and Double Quote (\\\"):\n",
        "Inserts a literal single quote or double quote."
      ]
    },
    {
      "cell_type": "code",
      "execution_count": null,
      "metadata": {
        "colab": {
          "base_uri": "https://localhost:8080/"
        },
        "id": "5WgVWv94u0GY",
        "outputId": "e02ed5f3-5bac-4657-b31f-613e116e7373"
      },
      "outputs": [
        {
          "output_type": "stream",
          "name": "stdout",
          "text": [
            "He said, 'Hello!'\n"
          ]
        }
      ],
      "source": [
        "single_quote_string = 'He said, \\'Hello!\\''\n",
        "print(single_quote_string)"
      ]
    },
    {
      "cell_type": "code",
      "execution_count": null,
      "metadata": {
        "colab": {
          "base_uri": "https://localhost:8080/"
        },
        "id": "fKKWIu0rLHQs",
        "outputId": "1de2979c-8767-43ba-baab-63c713157050"
      },
      "outputs": [
        {
          "output_type": "stream",
          "name": "stdout",
          "text": [
            "She said, \"Hi!\"\n"
          ]
        }
      ],
      "source": [
        "double_quote_string = \"She said, \\\"Hi!\\\"\"\n",
        "print(double_quote_string)"
      ]
    },
    {
      "cell_type": "markdown",
      "metadata": {
        "id": "UahAj7nTLMlf"
      },
      "source": [
        "### Raw Strings (r or R prefix):\n",
        "Treats backslashes as literal characters, useful for regular expressions."
      ]
    },
    {
      "cell_type": "code",
      "execution_count": null,
      "metadata": {
        "colab": {
          "base_uri": "https://localhost:8080/"
        },
        "id": "brED2Ru3u0GY",
        "outputId": "631c0a99-ab48-46c3-81ec-96ac2baf3f65"
      },
      "outputs": [
        {
          "output_type": "stream",
          "name": "stdout",
          "text": [
            "C:\\new_folder\\new_file\n"
          ]
        }
      ],
      "source": [
        "normal_string = \"C:\\new_folder\\new_file\"\n",
        "print(normal_string)"
      ]
    },
    {
      "cell_type": "code",
      "execution_count": null,
      "metadata": {
        "colab": {
          "base_uri": "https://localhost:8080/"
        },
        "id": "srDUa8Sxu0GY",
        "outputId": "96da44a4-b1af-4483-9297-9362c512ada4"
      },
      "outputs": [
        {
          "output_type": "stream",
          "name": "stdout",
          "text": [
            "C:\\new_folder\\new_file\n"
          ]
        }
      ],
      "source": [
        "raw_string = r\"C:\\new_folder\\new_file\"\n",
        "print(raw_string)"
      ]
    },
    {
      "cell_type": "markdown",
      "metadata": {
        "id": "fOANDYMeLge7"
      },
      "source": [
        "# Python Tuples\n",
        "Here are the examples and usage of Tuples"
      ]
    },
    {
      "cell_type": "markdown",
      "metadata": {
        "id": "HKW_D6ahNO10"
      },
      "source": [
        "## Tuple Declaration and Access"
      ]
    },
    {
      "cell_type": "code",
      "execution_count": null,
      "metadata": {
        "colab": {
          "base_uri": "https://localhost:8080/"
        },
        "id": "lr57-YgUNjNB",
        "outputId": "a45bea0a-78b9-4eed-e064-4e56fd6281ea"
      },
      "outputs": [
        {
          "output_type": "stream",
          "name": "stdout",
          "text": [
            "<class 'tuple'>\n",
            "(1, 2, 3, 'apple', 'banana')\n"
          ]
        }
      ],
      "source": [
        "my_tuple = (1, 2, 3, \"apple\", \"banana\")\n",
        "print(type(my_tuple))\n",
        "print(my_tuple)"
      ]
    },
    {
      "cell_type": "code",
      "execution_count": null,
      "metadata": {
        "colab": {
          "base_uri": "https://localhost:8080/"
        },
        "id": "KWf6gZL1u0GY",
        "outputId": "bd667fac-f3e1-4679-b57d-8bab9e8adb9e"
      },
      "outputs": [
        {
          "output_type": "stream",
          "name": "stdout",
          "text": [
            "1\n",
            "banana\n"
          ]
        }
      ],
      "source": [
        "first_element = my_tuple[0]\n",
        "last_element = my_tuple[-1]\n",
        "\n",
        "print(first_element)\n",
        "print(last_element)"
      ]
    },
    {
      "cell_type": "markdown",
      "metadata": {
        "id": "VGZ2MGlfNmQx"
      },
      "source": [
        "## Tuple Unpacking"
      ]
    },
    {
      "cell_type": "code",
      "execution_count": null,
      "metadata": {
        "colab": {
          "base_uri": "https://localhost:8080/"
        },
        "id": "PPwe7TPZNpiZ",
        "outputId": "9041a8cb-a4e4-4186-df4d-1f7f0cc555b7"
      },
      "outputs": [
        {
          "output_type": "stream",
          "name": "stdout",
          "text": [
            "1 2 3 apple banana\n"
          ]
        }
      ],
      "source": [
        "my_tuple = (1, 2, 3, \"apple\", \"banana\")\n",
        "\n",
        "a, b, c, d, e = my_tuple\n",
        "\n",
        "print(a, b, c, d, e)"
      ]
    },
    {
      "cell_type": "code",
      "execution_count": null,
      "metadata": {
        "colab": {
          "base_uri": "https://localhost:8080/"
        },
        "id": "LOb2_dtNu0GY",
        "outputId": "0d47c893-2a18-4798-f390-67af37912f90"
      },
      "outputs": [
        {
          "output_type": "stream",
          "name": "stdout",
          "text": [
            "1 2 [3, 'apple', 'banana']\n"
          ]
        }
      ],
      "source": [
        "a, b, *rest = my_tuple\n",
        "\n",
        "print(a, b, rest)"
      ]
    },
    {
      "cell_type": "markdown",
      "metadata": {
        "id": "-1y2qUNkN6b-"
      },
      "source": [
        "## Tuple Concatenation"
      ]
    },
    {
      "cell_type": "code",
      "execution_count": null,
      "metadata": {
        "colab": {
          "base_uri": "https://localhost:8080/"
        },
        "id": "YBmX6RkfN-f3",
        "outputId": "b5d533a8-e1c3-48bb-fad1-cbc738de578b"
      },
      "outputs": [
        {
          "output_type": "stream",
          "name": "stdout",
          "text": [
            "(1, 2, 3, 'apple', 'banana')\n"
          ]
        }
      ],
      "source": [
        "tuple1 = (1, 2, 3)\n",
        "tuple2 = (\"apple\", \"banana\")\n",
        "\n",
        "combined_tuple = tuple1 + tuple2\n",
        "\n",
        "print(combined_tuple)"
      ]
    },
    {
      "cell_type": "markdown",
      "metadata": {
        "id": "fTKYK2obN_-c"
      },
      "source": [
        "## Tuple Methods"
      ]
    },
    {
      "cell_type": "markdown",
      "metadata": {
        "id": "t-hC53ukOP8M"
      },
      "source": [
        "### Count"
      ]
    },
    {
      "cell_type": "code",
      "execution_count": null,
      "metadata": {
        "colab": {
          "base_uri": "https://localhost:8080/"
        },
        "id": "w9oIi3N0OSAF",
        "outputId": "6c61b76b-816f-40e5-90db-f1a166f46d8c"
      },
      "outputs": [
        {
          "output_type": "stream",
          "name": "stdout",
          "text": [
            "2\n"
          ]
        }
      ],
      "source": [
        "numbers = (1, 2, 3, 4, 5, 2)\n",
        "\n",
        "count_of_2 = numbers.count(2)\n",
        "\n",
        "print(count_of_2)"
      ]
    },
    {
      "cell_type": "markdown",
      "metadata": {
        "id": "NtJu92ITOWYv"
      },
      "source": [
        "### Index"
      ]
    },
    {
      "cell_type": "code",
      "execution_count": null,
      "metadata": {
        "colab": {
          "base_uri": "https://localhost:8080/"
        },
        "id": "Ic0bdFpdOX9a",
        "outputId": "bfa86201-2ff4-40f7-bde7-cde00ff163f6"
      },
      "outputs": [
        {
          "output_type": "stream",
          "name": "stdout",
          "text": [
            "3\n"
          ]
        }
      ],
      "source": [
        "numbers = (1, 2, 3, 4, 5, 2)\n",
        "\n",
        "index_of_4 = numbers.index(4)\n",
        "\n",
        "print(index_of_4)"
      ]
    },
    {
      "cell_type": "markdown",
      "metadata": {
        "id": "Ak-hUSZOOeYx"
      },
      "source": [
        "### Length"
      ]
    },
    {
      "cell_type": "code",
      "execution_count": null,
      "metadata": {
        "colab": {
          "base_uri": "https://localhost:8080/"
        },
        "id": "yvyfbt98Ofvu",
        "outputId": "43c8d425-d862-464a-908d-bbff2fdd9c7b"
      },
      "outputs": [
        {
          "output_type": "stream",
          "name": "stdout",
          "text": [
            "5\n"
          ]
        }
      ],
      "source": [
        "my_tuple = (10, 20, 30, \"apple\", \"banana\")\n",
        "\n",
        "length = len(my_tuple)\n",
        "\n",
        "print(length)"
      ]
    },
    {
      "cell_type": "markdown",
      "metadata": {
        "id": "odpY39tWOhJZ"
      },
      "source": [
        "### Max and Min Functions"
      ]
    },
    {
      "cell_type": "code",
      "execution_count": null,
      "metadata": {
        "colab": {
          "base_uri": "https://localhost:8080/"
        },
        "id": "Rt8dQv3POkVb",
        "outputId": "456793d1-cf92-46c2-ebe8-3df3d970a42a"
      },
      "outputs": [
        {
          "output_type": "stream",
          "name": "stdout",
          "text": [
            "10 2\n"
          ]
        }
      ],
      "source": [
        "numbers = (5, 8, 3, 2, 10)\n",
        "\n",
        "max_value = max(numbers)\n",
        "min_value = min(numbers)\n",
        "\n",
        "print(max_value, min_value)"
      ]
    },
    {
      "cell_type": "markdown",
      "metadata": {
        "id": "CuD34jTpOmsl"
      },
      "source": [
        "### Checking Membership"
      ]
    },
    {
      "cell_type": "code",
      "execution_count": null,
      "metadata": {
        "colab": {
          "base_uri": "https://localhost:8080/"
        },
        "id": "9dzzgzIQOriQ",
        "outputId": "332e1cd7-2059-425b-bd25-9934437d2ee2"
      },
      "outputs": [
        {
          "output_type": "stream",
          "name": "stdout",
          "text": [
            "True False\n"
          ]
        }
      ],
      "source": [
        "fruits = (\"apple\", \"orange\", \"banana\")\n",
        "\n",
        "is_apple_present = \"apple\" in fruits\n",
        "is_grape_present = \"grape\" in fruits\n",
        "\n",
        "print(is_apple_present, is_grape_present)"
      ]
    },
    {
      "cell_type": "markdown",
      "metadata": {
        "id": "oa4iEHSOOtez"
      },
      "source": [
        "### `any()` and `all()` Functions"
      ]
    },
    {
      "cell_type": "code",
      "execution_count": null,
      "metadata": {
        "colab": {
          "base_uri": "https://localhost:8080/"
        },
        "id": "wCu14T62OyRq",
        "outputId": "cd2ed3ff-349a-4ca2-f409-0ddd2d4ab279"
      },
      "outputs": [
        {
          "output_type": "stream",
          "name": "stdout",
          "text": [
            "(True, True, False, True)\n"
          ]
        }
      ],
      "source": [
        "boolean_values = (True, True, False, True)\n",
        "print(boolean_values)"
      ]
    },
    {
      "cell_type": "code",
      "execution_count": null,
      "metadata": {
        "colab": {
          "base_uri": "https://localhost:8080/"
        },
        "id": "hF1g-xs7u0GZ",
        "outputId": "363e0696-ac9a-4551-bc4f-3fc181a96c2c"
      },
      "outputs": [
        {
          "output_type": "stream",
          "name": "stdout",
          "text": [
            "True\n"
          ]
        }
      ],
      "source": [
        "# Check if any element is True\n",
        "any_true = any(boolean_values)\n",
        "print(any_true)"
      ]
    },
    {
      "cell_type": "code",
      "execution_count": null,
      "metadata": {
        "colab": {
          "base_uri": "https://localhost:8080/"
        },
        "id": "L6N92SLuu0GZ",
        "outputId": "314b8965-60b4-474a-ddc8-37b724a1abe4"
      },
      "outputs": [
        {
          "output_type": "stream",
          "name": "stdout",
          "text": [
            "False\n"
          ]
        }
      ],
      "source": [
        "# Check if all elements are True\n",
        "all_true = all(boolean_values)\n",
        "print(all_true)"
      ]
    },
    {
      "cell_type": "markdown",
      "metadata": {
        "id": "-RrYc7JdO2dR"
      },
      "source": [
        "## Tuple Comparison"
      ]
    },
    {
      "cell_type": "code",
      "execution_count": null,
      "metadata": {
        "colab": {
          "base_uri": "https://localhost:8080/"
        },
        "id": "6RNQ9UiBO7Pj",
        "outputId": "54d6c8ae-f6b1-4029-aec7-0b0d2f5c7a81"
      },
      "outputs": [
        {
          "output_type": "stream",
          "name": "stdout",
          "text": [
            "True\n"
          ]
        }
      ],
      "source": [
        "tuple1 = (1, 2, 3)\n",
        "tuple2 = (1, 2, 3, 4)\n",
        "\n",
        "is_smaller = tuple1 < tuple2\n",
        "\n",
        "print(is_smaller)"
      ]
    },
    {
      "cell_type": "markdown",
      "metadata": {
        "id": "SVI2vycpO-n3"
      },
      "source": [
        "## Nested Tuples"
      ]
    },
    {
      "cell_type": "code",
      "execution_count": null,
      "metadata": {
        "colab": {
          "base_uri": "https://localhost:8080/"
        },
        "id": "jLmAJVyAO8-u",
        "outputId": "653d8986-aa8e-481c-b2a3-e26012e2f877"
      },
      "outputs": [
        {
          "output_type": "stream",
          "name": "stdout",
          "text": [
            "apple\n"
          ]
        }
      ],
      "source": [
        "nested_tuple = ((1, 2, 3), (\"apple\", \"banana\"), (\"x\", \"y\", \"z\"))\n",
        "\n",
        "print(nested_tuple[1][0])"
      ]
    },
    {
      "cell_type": "markdown",
      "metadata": {
        "id": "24sbLpZkPGz-"
      },
      "source": [
        "## Immutable Nature of Tuples"
      ]
    },
    {
      "cell_type": "code",
      "execution_count": null,
      "metadata": {
        "id": "2q-1CudiPI-X",
        "colab": {
          "base_uri": "https://localhost:8080/",
          "height": 176
        },
        "outputId": "1749e616-3aef-4398-e01e-8dc5214e6297"
      },
      "outputs": [
        {
          "output_type": "error",
          "ename": "TypeError",
          "evalue": "'tuple' object does not support item assignment",
          "traceback": [
            "\u001b[0;31m---------------------------------------------------------------------------\u001b[0m",
            "\u001b[0;31mTypeError\u001b[0m                                 Traceback (most recent call last)",
            "\u001b[0;32m<ipython-input-168-b8f3774de886>\u001b[0m in \u001b[0;36m<cell line: 3>\u001b[0;34m()\u001b[0m\n\u001b[1;32m      1\u001b[0m \u001b[0mmy_tuple\u001b[0m \u001b[0;34m=\u001b[0m \u001b[0;34m(\u001b[0m\u001b[0;36m1\u001b[0m\u001b[0;34m,\u001b[0m \u001b[0;36m2\u001b[0m\u001b[0;34m,\u001b[0m \u001b[0;36m3\u001b[0m\u001b[0;34m)\u001b[0m\u001b[0;34m\u001b[0m\u001b[0;34m\u001b[0m\u001b[0m\n\u001b[1;32m      2\u001b[0m \u001b[0;34m\u001b[0m\u001b[0m\n\u001b[0;32m----> 3\u001b[0;31m \u001b[0mmy_tuple\u001b[0m\u001b[0;34m[\u001b[0m\u001b[0;36m0\u001b[0m\u001b[0;34m]\u001b[0m \u001b[0;34m=\u001b[0m \u001b[0;36m10\u001b[0m\u001b[0;34m\u001b[0m\u001b[0;34m\u001b[0m\u001b[0m\n\u001b[0m",
            "\u001b[0;31mTypeError\u001b[0m: 'tuple' object does not support item assignment"
          ]
        }
      ],
      "source": [
        "my_tuple = (1, 2, 3)\n",
        "\n",
        "my_tuple[0] = 10"
      ]
    },
    {
      "cell_type": "markdown",
      "metadata": {
        "id": "doAHdUSVPK0C"
      },
      "source": [
        "## Returning Multiple Values from a Function"
      ]
    },
    {
      "cell_type": "code",
      "execution_count": null,
      "metadata": {
        "id": "KFElha-FPM30"
      },
      "outputs": [],
      "source": [
        "def return_coordinates():\n",
        "    x = 10\n",
        "    y = 20\n",
        "    z = 30\n",
        "    return x, y, z"
      ]
    },
    {
      "cell_type": "code",
      "execution_count": null,
      "metadata": {
        "colab": {
          "base_uri": "https://localhost:8080/"
        },
        "id": "7kaB2Y0_u0Ga",
        "outputId": "285aaf32-2a27-4d9e-aa51-7316af895eff"
      },
      "outputs": [
        {
          "output_type": "stream",
          "name": "stdout",
          "text": [
            "10 20 30\n"
          ]
        }
      ],
      "source": [
        "coordinates = return_coordinates()\n",
        "print(coordinates[0], coordinates[1], coordinates[2])"
      ]
    },
    {
      "cell_type": "code",
      "execution_count": null,
      "metadata": {
        "colab": {
          "base_uri": "https://localhost:8080/"
        },
        "id": "NI-YTd2Mu0Ga",
        "outputId": "5b3b5c31-8ab6-4312-cb31-41120e3f6816"
      },
      "outputs": [
        {
          "output_type": "stream",
          "name": "stdout",
          "text": [
            "10 20 30\n"
          ]
        }
      ],
      "source": [
        "coordinate_x, coordinate_y, coordinate_z = return_coordinates()\n",
        "print(coordinate_x, coordinate_y, coordinate_z)"
      ]
    },
    {
      "cell_type": "markdown",
      "metadata": {
        "id": "Fkdda31XPQrT"
      },
      "source": [
        "## Creating Single-Element Tuple"
      ]
    },
    {
      "cell_type": "code",
      "execution_count": null,
      "metadata": {
        "colab": {
          "base_uri": "https://localhost:8080/"
        },
        "id": "WOYtxd8CPRvM",
        "outputId": "a8752704-1d5d-40ee-eaab-a6e62e1345cb"
      },
      "outputs": [
        {
          "output_type": "stream",
          "name": "stdout",
          "text": [
            "<class 'tuple'>\n",
            "(42,)\n"
          ]
        }
      ],
      "source": [
        "single_element_tuple = (42,)\n",
        "\n",
        "print(type(single_element_tuple))\n",
        "print(single_element_tuple)"
      ]
    },
    {
      "cell_type": "code",
      "source": [
        "single_element_int = (42)\n",
        "\n",
        "print(type(single_element_int))\n",
        "print(single_element_int)"
      ],
      "metadata": {
        "colab": {
          "base_uri": "https://localhost:8080/"
        },
        "id": "Sc7ez0kwbdtm",
        "outputId": "05f6fb8e-8fba-453c-ac1a-d7c1cbdb5e6f"
      },
      "execution_count": null,
      "outputs": [
        {
          "output_type": "stream",
          "name": "stdout",
          "text": [
            "<class 'int'>\n",
            "42\n"
          ]
        }
      ]
    },
    {
      "cell_type": "markdown",
      "metadata": {
        "id": "QXbj98X0PYKX"
      },
      "source": [
        "## Using tuple() Constructor"
      ]
    },
    {
      "cell_type": "code",
      "execution_count": null,
      "metadata": {
        "colab": {
          "base_uri": "https://localhost:8080/"
        },
        "id": "x87NICpVPaMs",
        "outputId": "8933b508-4dce-4829-b481-3124c8c84fef"
      },
      "outputs": [
        {
          "output_type": "stream",
          "name": "stdout",
          "text": [
            "(1, 2, 3, 4)\n"
          ]
        }
      ],
      "source": [
        "my_list = [1, 2, 3, 4]\n",
        "\n",
        "tuple_from_list = tuple(my_list)\n",
        "\n",
        "print(tuple_from_list)"
      ]
    },
    {
      "cell_type": "code",
      "source": [
        "list_from_tuple = list(tuple_from_list)\n",
        "\n",
        "print(list_from_tuple)"
      ],
      "metadata": {
        "colab": {
          "base_uri": "https://localhost:8080/"
        },
        "id": "trtQip_0b1OS",
        "outputId": "3c8c7277-f6d7-4761-c946-6dd2dbbf4f7a"
      },
      "execution_count": null,
      "outputs": [
        {
          "output_type": "stream",
          "name": "stdout",
          "text": [
            "[1, 2, 3, 4]\n"
          ]
        }
      ]
    },
    {
      "cell_type": "markdown",
      "metadata": {
        "id": "UTssiSQFSE99"
      },
      "source": [
        "## Lists vs Tuples"
      ]
    },
    {
      "cell_type": "code",
      "execution_count": null,
      "metadata": {
        "colab": {
          "base_uri": "https://localhost:8080/"
        },
        "id": "az94EosuSJfz",
        "outputId": "8e921cd9-8536-4065-9497-0b6262629883"
      },
      "outputs": [
        {
          "output_type": "stream",
          "name": "stdout",
          "text": [
            "[0, 1, 2, 5, 10]\n",
            "(0, 1, 2, 5, 10)\n"
          ]
        }
      ],
      "source": [
        "my_list = [0, 1, 2, 5, 10]\n",
        "my_tuple = (0, 1, 2, 5, 10)\n",
        "\n",
        "print(my_list)\n",
        "print(my_tuple)"
      ]
    },
    {
      "cell_type": "code",
      "execution_count": null,
      "metadata": {
        "colab": {
          "base_uri": "https://localhost:8080/"
        },
        "id": "v9QzGuBeu0Ga",
        "outputId": "1752c4cf-6b7c-4f4f-9d67-9de314c4fc68"
      },
      "outputs": [
        {
          "output_type": "stream",
          "name": "stdout",
          "text": [
            "139589150834560\n",
            "139589149484480\n"
          ]
        }
      ],
      "source": [
        "print(id(my_list))\n",
        "print(id(my_tuple))"
      ]
    },
    {
      "cell_type": "code",
      "execution_count": null,
      "metadata": {
        "colab": {
          "base_uri": "https://localhost:8080/"
        },
        "id": "yZ1nFLgLu0Ga",
        "outputId": "d2d76fba-4c68-4c05-82ce-2a8456213dbd"
      },
      "outputs": [
        {
          "output_type": "stream",
          "name": "stdout",
          "text": [
            "104 bytes\n",
            "80 bytes\n"
          ]
        }
      ],
      "source": [
        "import sys\n",
        "\n",
        "print(sys.getsizeof(my_list), \"bytes\")\n",
        "print(sys.getsizeof(my_tuple), \"bytes\")"
      ]
    },
    {
      "cell_type": "markdown",
      "metadata": {
        "id": "hrGIBf-fP9Hy"
      },
      "source": [
        "# Coding Examples"
      ]
    },
    {
      "cell_type": "markdown",
      "metadata": {
        "id": "MA6mYfPUQAke"
      },
      "source": [
        "## String in Uppercase\n",
        "Write a function that takes a string as input and returns the string in uppercase."
      ]
    },
    {
      "cell_type": "code",
      "execution_count": null,
      "metadata": {
        "id": "64XGPcwNUTNc"
      },
      "outputs": [],
      "source": [
        "def to_uppercase():\n",
        "    user_input = input(\"Enter a string to be converted to uppercase:\")\n",
        "    return user_input.upper()"
      ]
    },
    {
      "cell_type": "code",
      "execution_count": null,
      "metadata": {
        "colab": {
          "base_uri": "https://localhost:8080/"
        },
        "id": "CkfHYiFpu0Ga",
        "outputId": "79056363-e8b4-4384-fe8a-95fa96e0bffd"
      },
      "outputs": [
        {
          "output_type": "stream",
          "name": "stdout",
          "text": [
            "Enter a string to be converted to uppercase:Hello World!\n",
            "HELLO WORLD!\n"
          ]
        }
      ],
      "source": [
        "# Test case\n",
        "print(to_uppercase())"
      ]
    },
    {
      "cell_type": "markdown",
      "metadata": {
        "id": "YNrPNonwVJQw"
      },
      "source": [
        "## List with characters longer than 5\n",
        "Write a function that takes a list of strings as input and returns a new list with all the strings that are longer than 5 characters."
      ]
    },
    {
      "cell_type": "code",
      "execution_count": null,
      "metadata": {
        "id": "omabxAFXVRcZ"
      },
      "outputs": [],
      "source": [
        "def long_strings(strings):\n",
        "    return [string for string in strings if len(string) > 5]"
      ]
    },
    {
      "cell_type": "code",
      "execution_count": null,
      "metadata": {
        "colab": {
          "base_uri": "https://localhost:8080/"
        },
        "id": "C-fI_6tWu0Gb",
        "outputId": "ad4a01bf-5151-4483-b73c-bd83b38f04fa"
      },
      "outputs": [
        {
          "output_type": "stream",
          "name": "stdout",
          "text": [
            "['python', 'go lang', 'javascript']\n"
          ]
        }
      ],
      "source": [
        "# Test case\n",
        "my_list = [\"python\", \"java\", \"c++\", \"go lang\", \"ruby\", \"c#\", \"javascript\"]\n",
        "print(long_strings(my_list)) # Expected: ['python', 'go lang', 'javascript']"
      ]
    },
    {
      "cell_type": "markdown",
      "metadata": {
        "id": "gsjPtiFPV8ZV"
      },
      "source": [
        "## Swap First and Last\n",
        "Write a function that takes a string as input and returns a new string with the first and last characters swapped."
      ]
    },
    {
      "cell_type": "code",
      "execution_count": null,
      "metadata": {
        "id": "aNKiLOLGV-dS"
      },
      "outputs": [],
      "source": [
        "def swap_first_last():\n",
        "    text = input(\"Enter the input string to be swapped:\")\n",
        "    if len(text) < 2:\n",
        "        return text\n",
        "    return text[-1] + text[1:-1] + text[0]"
      ]
    },
    {
      "cell_type": "code",
      "execution_count": null,
      "metadata": {
        "colab": {
          "base_uri": "https://localhost:8080/"
        },
        "id": "P0E4H4gyu0Gb",
        "outputId": "cd1c0665-3c01-4d3c-daf0-e2ae19cc6793"
      },
      "outputs": [
        {
          "output_type": "stream",
          "name": "stdout",
          "text": [
            "Enter the input string to be swapped:abcde\n",
            "ebcda\n"
          ]
        }
      ],
      "source": [
        "print(swap_first_last())"
      ]
    },
    {
      "cell_type": "markdown",
      "metadata": {
        "id": "5Z_FGMUIWNQO"
      },
      "source": [
        "## Convert to Strings\n",
        "Write a function that takes a tuple with mixed data types (strings, integers, floats) and returns a new tuple with all the elements converted to strings."
      ]
    },
    {
      "cell_type": "code",
      "execution_count": null,
      "metadata": {
        "id": "ghjiTJSFWT26"
      },
      "outputs": [],
      "source": [
        "def to_strings(data):\n",
        "    return tuple([str(item) for item in data])"
      ]
    },
    {
      "cell_type": "code",
      "execution_count": null,
      "metadata": {
        "colab": {
          "base_uri": "https://localhost:8080/"
        },
        "id": "ASFBnOjhu0Gb",
        "outputId": "c79be1ed-8305-47e4-f544-cd82697e934a"
      },
      "outputs": [
        {
          "output_type": "stream",
          "name": "stdout",
          "text": [
            "('hello', '1', '2', '3', '4.56')\n"
          ]
        }
      ],
      "source": [
        "# Test case\n",
        "my_tuple = (\"hello\", 1, 2, 3, 4.56)\n",
        "print(to_strings(my_tuple)) # Expected: ('hello', '1', '2', '3', '4.56')"
      ]
    },
    {
      "cell_type": "markdown",
      "metadata": {
        "id": "XORsJlzbWiLQ"
      },
      "source": [
        "## Reverse a Tuple\n",
        "Write a function that takes a tuple as input and returns a new tuple with the elements reversed."
      ]
    },
    {
      "cell_type": "code",
      "execution_count": null,
      "metadata": {
        "id": "wbH7_QvoWl9P"
      },
      "outputs": [],
      "source": [
        "def reverse_tuple(data):\n",
        "    return tuple(data[::-1])"
      ]
    },
    {
      "cell_type": "code",
      "execution_count": null,
      "metadata": {
        "colab": {
          "base_uri": "https://localhost:8080/"
        },
        "id": "qFthpbESu0Gb",
        "outputId": "ca722f95-6bda-44c0-e852-fa776c4a0662"
      },
      "outputs": [
        {
          "output_type": "stream",
          "name": "stdout",
          "text": [
            "(100, 10, 3, 6, 4, 1)\n"
          ]
        }
      ],
      "source": [
        "# Test Case\n",
        "my_tuple = (1, 4, 6, 3, 10, 100)\n",
        "print(reverse_tuple(my_tuple)) # Expected: (100, 10, 3, 6, 4, 1)"
      ]
    },
    {
      "cell_type": "markdown",
      "metadata": {
        "id": "H2hEfWX0XEXm"
      },
      "source": [
        "## Check Palindrome\n",
        "Palindrome - a word, phrase, or sequence that reads the same backwards as forwards, e.g. madam.\n",
        "Write a program to find whether the given string is palindrome or not."
      ]
    },
    {
      "cell_type": "code",
      "execution_count": null,
      "metadata": {
        "id": "Jmgs_UoMXVhy"
      },
      "outputs": [],
      "source": [
        "def is_palindrome():\n",
        "    s = input(\"Enter the phrase to check if it is palindrome: \")\n",
        "    start = 0\n",
        "    end = len(s) - 1\n",
        "    while start < end:\n",
        "        if s[start] != s[end]:\n",
        "            return False\n",
        "        start += 1\n",
        "        end -= 1\n",
        "    return True"
      ]
    },
    {
      "cell_type": "code",
      "execution_count": null,
      "metadata": {
        "colab": {
          "base_uri": "https://localhost:8080/"
        },
        "id": "qFc_7_Xeu0Gb",
        "outputId": "7e3747f8-2cc6-4908-8d76-fa8d6adfdaf8"
      },
      "outputs": [
        {
          "output_type": "stream",
          "name": "stdout",
          "text": [
            "Enter the phrase to check if it is palindrome: aba\n",
            "True\n"
          ]
        }
      ],
      "source": [
        "# Test case\n",
        "print(is_palindrome())"
      ]
    }
  ],
  "metadata": {
    "colab": {
      "provenance": [],
      "include_colab_link": true
    },
    "kernelspec": {
      "display_name": "Python 3 (ipykernel)",
      "language": "python",
      "name": "python3"
    },
    "language_info": {
      "codemirror_mode": {
        "name": "ipython",
        "version": 3
      },
      "file_extension": ".py",
      "mimetype": "text/x-python",
      "name": "python",
      "nbconvert_exporter": "python",
      "pygments_lexer": "ipython3",
      "version": "3.10.9"
    }
  },
  "nbformat": 4,
  "nbformat_minor": 0
}