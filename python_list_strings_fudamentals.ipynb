{
  "nbformat": 4,
  "nbformat_minor": 0,
  "metadata": {
    "colab": {
      "provenance": [],
      "authorship_tag": "ABX9TyOaw/yf8/QkgttTb8ZlFNcR",
      "include_colab_link": true
    },
    "kernelspec": {
      "name": "python3",
      "display_name": "Python 3"
    },
    "language_info": {
      "name": "python"
    }
  },
  "cells": [
    {
      "cell_type": "markdown",
      "metadata": {
        "id": "view-in-github",
        "colab_type": "text"
      },
      "source": [
        "<a href=\"https://colab.research.google.com/github/anvi265/python-fundamentals/blob/main/python_list_strings_fudamentals.ipynb\" target=\"_parent\"><img src=\"https://colab.research.google.com/assets/colab-badge.svg\" alt=\"Open In Colab\"/></a>"
      ]
    },
    {
      "cell_type": "markdown",
      "source": [
        "# Python Lists"
      ],
      "metadata": {
        "id": "21Vx0xUTdNNi"
      }
    },
    {
      "cell_type": "code",
      "execution_count": null,
      "metadata": {
        "colab": {
          "base_uri": "https://localhost:8080/"
        },
        "id": "mPutRo7ZdAli",
        "outputId": "75198add-37a2-4891-c302-3bb725d2e122"
      },
      "outputs": [
        {
          "output_type": "stream",
          "name": "stdout",
          "text": [
            "['apple', 'banana', 'orange']\n"
          ]
        }
      ],
      "source": [
        "# Create a new list\n",
        "fruits = [\"apple\", \"banana\", \"orange\"]\n",
        "print(fruits)"
      ]
    },
    {
      "cell_type": "code",
      "source": [
        "# Lists are ordered\n",
        "print(fruits[0])\n",
        "print(fruits[-1])"
      ],
      "metadata": {
        "colab": {
          "base_uri": "https://localhost:8080/"
        },
        "id": "jLQufpK7dpJj",
        "outputId": "eb0745b2-f9f8-4795-e534-293b9b103c61"
      },
      "execution_count": null,
      "outputs": [
        {
          "output_type": "stream",
          "name": "stdout",
          "text": [
            "apple\n",
            "orange\n"
          ]
        }
      ]
    },
    {
      "cell_type": "code",
      "source": [
        "# Lists are mutable\n",
        "fruits[1] = \"kiwi\"\n",
        "print(fruits)"
      ],
      "metadata": {
        "colab": {
          "base_uri": "https://localhost:8080/"
        },
        "id": "GBh2Q1osd9cx",
        "outputId": "041880aa-d50b-4747-ff3d-f71b463ae791"
      },
      "execution_count": null,
      "outputs": [
        {
          "output_type": "stream",
          "name": "stdout",
          "text": [
            "['apple', 'kiwi', 'orange']\n"
          ]
        }
      ]
    },
    {
      "cell_type": "code",
      "source": [
        "# Lists are heterogeneous\n",
        "isMarried = True\n",
        "id_list = [\"name\", 20, \"India\", 6.8, isMarried]\n",
        "print(id_list)"
      ],
      "metadata": {
        "colab": {
          "base_uri": "https://localhost:8080/"
        },
        "id": "dGCYg6CneIJX",
        "outputId": "df35ccaf-0345-46cb-be2c-a2827177735d"
      },
      "execution_count": null,
      "outputs": [
        {
          "output_type": "stream",
          "name": "stdout",
          "text": [
            "['name', 20, 'India', 6.8, True]\n"
          ]
        }
      ]
    },
    {
      "cell_type": "code",
      "source": [
        "# Get the length of the list\n",
        "len = len(id_list)\n",
        "print(len)"
      ],
      "metadata": {
        "colab": {
          "base_uri": "https://localhost:8080/"
        },
        "id": "qfot__GAeeOs",
        "outputId": "0938c7b4-0175-471b-cc3a-5085b52a2c9a"
      },
      "execution_count": null,
      "outputs": [
        {
          "output_type": "stream",
          "name": "stdout",
          "text": [
            "5\n"
          ]
        }
      ]
    },
    {
      "cell_type": "code",
      "source": [
        "# List concatenation\n",
        "list1 = [1, 2, 3]\n",
        "list2 = [4, 5]\n",
        "\n",
        "new_list = list1 + list2\n",
        "print(new_list)"
      ],
      "metadata": {
        "colab": {
          "base_uri": "https://localhost:8080/"
        },
        "id": "wlihvkYZettz",
        "outputId": "42211835-eb08-45d1-9877-47db418e2730"
      },
      "execution_count": null,
      "outputs": [
        {
          "output_type": "stream",
          "name": "stdout",
          "text": [
            "[1, 2, 3, 4, 5]\n"
          ]
        }
      ]
    },
    {
      "cell_type": "code",
      "source": [
        "# List multiplication (Repeated list)\n",
        "list1 = [1, 2, 3]\n",
        "repeated_list = list1 * 2\n",
        "print(repeated_list)"
      ],
      "metadata": {
        "colab": {
          "base_uri": "https://localhost:8080/"
        },
        "id": "VkB938mMe7vO",
        "outputId": "181ec98d-2e1b-425d-a965-e5f31ca5e508"
      },
      "execution_count": null,
      "outputs": [
        {
          "output_type": "stream",
          "name": "stdout",
          "text": [
            "[1, 2, 3, 1, 2, 3]\n"
          ]
        }
      ]
    },
    {
      "cell_type": "markdown",
      "source": [
        "# Build in methods of list"
      ],
      "metadata": {
        "id": "UdYYOek1fJ4c"
      }
    },
    {
      "cell_type": "code",
      "source": [
        "fruits = [\"apple\", \"banana\", \"orange\"]\n",
        "fruits.append(\"grapes\")\n",
        "print(fruits)"
      ],
      "metadata": {
        "colab": {
          "base_uri": "https://localhost:8080/"
        },
        "id": "QuV2P3MCe7yD",
        "outputId": "4cc80e2b-c3c1-4915-c92e-ca038c811134"
      },
      "execution_count": null,
      "outputs": [
        {
          "output_type": "stream",
          "name": "stdout",
          "text": [
            "['apple', 'banana', 'orange', 'grapes']\n"
          ]
        }
      ]
    },
    {
      "cell_type": "code",
      "source": [
        "fruits.extend([\"Peach\", \"Blueberry\"])\n",
        "print(fruits)"
      ],
      "metadata": {
        "colab": {
          "base_uri": "https://localhost:8080/"
        },
        "id": "OFEU5yThfPVH",
        "outputId": "52e25345-7538-4a24-a8e7-ab33ec6a0489"
      },
      "execution_count": null,
      "outputs": [
        {
          "output_type": "stream",
          "name": "stdout",
          "text": [
            "['apple', 'banana', 'orange', 'grapes', 'Peach', 'Blueberry']\n"
          ]
        }
      ]
    },
    {
      "cell_type": "code",
      "source": [
        "popped_element = fruits.pop()\n",
        "print(f\"Popped element is {popped_element}\")\n",
        "print(fruits)"
      ],
      "metadata": {
        "colab": {
          "base_uri": "https://localhost:8080/"
        },
        "id": "pcDlfnW7fPYN",
        "outputId": "a10e43fe-ebb8-44a1-fd3b-ac0751fad5ad"
      },
      "execution_count": null,
      "outputs": [
        {
          "output_type": "stream",
          "name": "stdout",
          "text": [
            "Popped element is Peach\n",
            "['apple', 'banana', 'orange', 'grapes']\n"
          ]
        }
      ]
    },
    {
      "cell_type": "code",
      "source": [
        "num_of_orages = fruits.count(\"orange\")\n",
        "print(num_of_orages);"
      ],
      "metadata": {
        "colab": {
          "base_uri": "https://localhost:8080/"
        },
        "id": "bOB-loxmfPbF",
        "outputId": "e76c7d9a-20a8-4d68-e234-5a0f1e6c7821"
      },
      "execution_count": null,
      "outputs": [
        {
          "output_type": "stream",
          "name": "stdout",
          "text": [
            "1\n"
          ]
        }
      ]
    },
    {
      "cell_type": "code",
      "source": [
        "fruits.append(\"apple\")\n",
        "num_of_apples = fruits.count(\"apple\")\n",
        "print(num_of_apples)\n",
        "print(fruits)"
      ],
      "metadata": {
        "colab": {
          "base_uri": "https://localhost:8080/"
        },
        "id": "znbblTkBgJOD",
        "outputId": "04ee1785-7a45-47d6-f7b5-972ad80e439b"
      },
      "execution_count": null,
      "outputs": [
        {
          "output_type": "stream",
          "name": "stdout",
          "text": [
            "4\n",
            "['apple', 'banana', 'orange', 'grapes', 'apple', 'apple', 'apple']\n"
          ]
        }
      ]
    },
    {
      "cell_type": "code",
      "source": [
        "num_list = [2, 0, -1, 4, 10]\n",
        "del num_list[3]\n",
        "print(num_list)\n",
        "\n",
        "#Slice the list\n",
        "del num_list[1:3]\n",
        "print(num_list)\n",
        "\n",
        "# Delete all elements in list\n",
        "del num_list[:]\n",
        "print(num_list)"
      ],
      "metadata": {
        "colab": {
          "base_uri": "https://localhost:8080/"
        },
        "id": "jdg6bc6fgJQ4",
        "outputId": "56fa2e4f-821d-4976-ca6e-44838d5004b6"
      },
      "execution_count": null,
      "outputs": [
        {
          "output_type": "stream",
          "name": "stdout",
          "text": [
            "[2, 0, -1, 10]\n",
            "[2, 10]\n",
            "[]\n"
          ]
        }
      ]
    },
    {
      "cell_type": "code",
      "source": [
        "# iterate through the list\n",
        "nums = [12, 15, 4, 10]\n",
        "\n",
        "for num in nums:\n",
        "  print(num)"
      ],
      "metadata": {
        "colab": {
          "base_uri": "https://localhost:8080/"
        },
        "id": "XLw6D3vbgJTf",
        "outputId": "7bb92163-5c10-4a1c-841e-1cd6bb3e42e7"
      },
      "execution_count": null,
      "outputs": [
        {
          "output_type": "stream",
          "name": "stdout",
          "text": [
            "12\n",
            "15\n",
            "4\n",
            "10\n"
          ]
        }
      ]
    },
    {
      "cell_type": "code",
      "source": [
        "# Check existence in list\n",
        "if 4 in nums:\n",
        "  print(\"Yes\")\n",
        "else:\n",
        "  print(\"No\")"
      ],
      "metadata": {
        "colab": {
          "base_uri": "https://localhost:8080/"
        },
        "id": "-diXpLU9hnVR",
        "outputId": "c235a617-f04f-46ae-ac7c-eba84f33a484"
      },
      "execution_count": null,
      "outputs": [
        {
          "output_type": "stream",
          "name": "stdout",
          "text": [
            "Yes\n"
          ]
        }
      ]
    },
    {
      "cell_type": "code",
      "source": [
        "# List Comprehensions\n",
        "square = [x ** 2 for x in range(4)]\n",
        "print(square)\n",
        "\n",
        "even_nums = [y for y in range(10) if y%2 == 0]\n",
        "print(even_nums)"
      ],
      "metadata": {
        "colab": {
          "base_uri": "https://localhost:8080/"
        },
        "id": "KxthxkAwilOB",
        "outputId": "96cc277b-1365-4f2f-96c8-37d6152727a1"
      },
      "execution_count": null,
      "outputs": [
        {
          "output_type": "stream",
          "name": "stdout",
          "text": [
            "[0, 1, 4, 9]\n",
            "[0, 2, 4, 6, 8]\n"
          ]
        }
      ]
    },
    {
      "cell_type": "code",
      "source": [
        "# Slicing in list\n",
        "nums = [0, 1, 2, 3, 4, 5, 6, 7, 8, 9]\n",
        "nums[1:5]\n",
        "nums[1:9:2]"
      ],
      "metadata": {
        "colab": {
          "base_uri": "https://localhost:8080/"
        },
        "id": "imseW5EiiwC7",
        "outputId": "65b40cdb-5f64-48de-b60d-c8e0023dd8a3"
      },
      "execution_count": null,
      "outputs": [
        {
          "output_type": "execute_result",
          "data": {
            "text/plain": [
              "[1, 3, 5, 7]"
            ]
          },
          "metadata": {},
          "execution_count": 44
        }
      ]
    },
    {
      "cell_type": "code",
      "source": [
        "nums[-5:-2]"
      ],
      "metadata": {
        "colab": {
          "base_uri": "https://localhost:8080/"
        },
        "id": "_aaijR2ajpFf",
        "outputId": "bda5942b-9aa0-404a-a44a-895ca50b28e6"
      },
      "execution_count": null,
      "outputs": [
        {
          "output_type": "execute_result",
          "data": {
            "text/plain": [
              "[5, 6, 7]"
            ]
          },
          "metadata": {},
          "execution_count": 45
        }
      ]
    },
    {
      "cell_type": "code",
      "source": [
        "nums[::]"
      ],
      "metadata": {
        "colab": {
          "base_uri": "https://localhost:8080/"
        },
        "id": "_DjtfOlTjvTJ",
        "outputId": "fd286533-157a-4ad0-86e6-af9d0948d45a"
      },
      "execution_count": null,
      "outputs": [
        {
          "output_type": "execute_result",
          "data": {
            "text/plain": [
              "[0, 1, 2, 3, 4, 5, 6, 7, 8, 9]"
            ]
          },
          "metadata": {},
          "execution_count": 47
        }
      ]
    },
    {
      "cell_type": "code",
      "source": [
        "nums[::-1]"
      ],
      "metadata": {
        "colab": {
          "base_uri": "https://localhost:8080/"
        },
        "id": "ad40z1ryjvWO",
        "outputId": "3ca4217e-db53-4488-b02e-dcd5b386051e"
      },
      "execution_count": null,
      "outputs": [
        {
          "output_type": "execute_result",
          "data": {
            "text/plain": [
              "[9, 8, 7, 6, 5, 4, 3, 2, 1, 0]"
            ]
          },
          "metadata": {},
          "execution_count": 48
        }
      ]
    },
    {
      "cell_type": "markdown",
      "source": [
        "# Python Strings"
      ],
      "metadata": {
        "id": "FBnEnshOkBKo"
      }
    },
    {
      "cell_type": "code",
      "source": [
        "# Create a new string\n",
        "greeting = \"Hello, World!\"\n",
        "print(greeting)"
      ],
      "metadata": {
        "colab": {
          "base_uri": "https://localhost:8080/"
        },
        "id": "BQ3i7n2HjvYj",
        "outputId": "d04417a1-bff8-4ebc-f4d3-657adb6a6394"
      },
      "execution_count": null,
      "outputs": [
        {
          "output_type": "stream",
          "name": "stdout",
          "text": [
            "Hello, World!\n"
          ]
        }
      ]
    },
    {
      "cell_type": "code",
      "source": [
        "# Strings are ordered\n",
        "ch = greeting[2]\n",
        "print(f\"Character at position 2 is {ch}\")"
      ],
      "metadata": {
        "colab": {
          "base_uri": "https://localhost:8080/"
        },
        "id": "mrGuaybPkFcV",
        "outputId": "13119484-0f9c-462c-9a64-992d49f86ad7"
      },
      "execution_count": null,
      "outputs": [
        {
          "output_type": "stream",
          "name": "stdout",
          "text": [
            "Character at position 2 is l\n"
          ]
        }
      ]
    },
    {
      "cell_type": "code",
      "source": [
        "# Concatenation of strings\n",
        "full_greeting = greeting + \" Have a great day!\"\n",
        "print(full_greeting)"
      ],
      "metadata": {
        "colab": {
          "base_uri": "https://localhost:8080/"
        },
        "id": "ba_8j0VdkRQG",
        "outputId": "ceb73859-7cc1-4bf1-f403-b45b3989ec90"
      },
      "execution_count": null,
      "outputs": [
        {
          "output_type": "stream",
          "name": "stdout",
          "text": [
            "Hello, World! Have a great day!\n"
          ]
        }
      ]
    },
    {
      "cell_type": "code",
      "source": [
        "# String Repeatition\n",
        "repeated_string = \"*\" * 5 + \"abc\" + \"*\" * 5\n",
        "print(repeated_string)"
      ],
      "metadata": {
        "colab": {
          "base_uri": "https://localhost:8080/"
        },
        "id": "SIogCvkbkRTZ",
        "outputId": "5f28a8dc-d4cc-49b1-850e-5442a61db1d1"
      },
      "execution_count": null,
      "outputs": [
        {
          "output_type": "stream",
          "name": "stdout",
          "text": [
            "*****abc*****\n"
          ]
        }
      ]
    },
    {
      "cell_type": "code",
      "source": [
        "# string convert case\n",
        "words = \"Cats Dogs Lions\"\n",
        "upper_words = words.upper()\n",
        "print(upper_words)\n",
        "lower_words = words.lower()\n",
        "print(lower_words)"
      ],
      "metadata": {
        "colab": {
          "base_uri": "https://localhost:8080/"
        },
        "id": "rQ2wA-VpkRWz",
        "outputId": "acec258c-d21e-46da-835f-e628e59ca4fd"
      },
      "execution_count": null,
      "outputs": [
        {
          "output_type": "stream",
          "name": "stdout",
          "text": [
            "CATS DOGS LIONS\n",
            "cats dogs lions\n"
          ]
        }
      ]
    },
    {
      "cell_type": "code",
      "source": [
        "replace_words = words.replace(\"Dogs\", \"Monkey\")\n",
        "print(replace_words)"
      ],
      "metadata": {
        "colab": {
          "base_uri": "https://localhost:8080/"
        },
        "id": "zHUMTybWkRZ7",
        "outputId": "222664df-2721-40da-9260-cf01994169cd"
      },
      "execution_count": null,
      "outputs": [
        {
          "output_type": "stream",
          "name": "stdout",
          "text": [
            "Cats Monkey Lions\n"
          ]
        }
      ]
    },
    {
      "cell_type": "code",
      "source": [
        "result = greeting.find(\"World\")\n",
        "print(result)"
      ],
      "metadata": {
        "colab": {
          "base_uri": "https://localhost:8080/"
        },
        "id": "b_NOYUhXl3BU",
        "outputId": "3a5f322c-6a38-490c-8004-6091b31fbfb4"
      },
      "execution_count": null,
      "outputs": [
        {
          "output_type": "stream",
          "name": "stdout",
          "text": [
            "7\n"
          ]
        }
      ]
    },
    {
      "cell_type": "code",
      "source": [
        "word_list = words.split(\" \")\n",
        "print(word_list)"
      ],
      "metadata": {
        "colab": {
          "base_uri": "https://localhost:8080/"
        },
        "id": "trDRzDl0l3Ea",
        "outputId": "98a1d5ac-3c7e-48fe-d43c-b278c089e262"
      },
      "execution_count": null,
      "outputs": [
        {
          "output_type": "stream",
          "name": "stdout",
          "text": [
            "['Cats', 'Dogs', 'Lions']\n"
          ]
        }
      ]
    },
    {
      "cell_type": "code",
      "source": [
        "# Join string\n",
        "joined_str = \", \".join(word_list)\n",
        "print(joined_str)"
      ],
      "metadata": {
        "colab": {
          "base_uri": "https://localhost:8080/"
        },
        "id": "BQ1C7qglmNn-",
        "outputId": "29a38add-392a-4bc5-d199-b913de477fd1"
      },
      "execution_count": null,
      "outputs": [
        {
          "output_type": "stream",
          "name": "stdout",
          "text": [
            "Cats, Dogs, Lions\n"
          ]
        }
      ]
    },
    {
      "cell_type": "code",
      "source": [
        "result = greeting.startswith(\"Hello\")\n",
        "print(result)"
      ],
      "metadata": {
        "colab": {
          "base_uri": "https://localhost:8080/"
        },
        "id": "q6U-OFBRmbDj",
        "outputId": "b4273a9c-b835-48bf-d0fa-a6959811c742"
      },
      "execution_count": null,
      "outputs": [
        {
          "output_type": "stream",
          "name": "stdout",
          "text": [
            "True\n"
          ]
        }
      ]
    },
    {
      "cell_type": "code",
      "source": [
        "result = greeting.endswith(\"World!\")\n",
        "print(result)"
      ],
      "metadata": {
        "colab": {
          "base_uri": "https://localhost:8080/"
        },
        "id": "ThUZGKzGmm31",
        "outputId": "354ee924-924a-4213-c39f-33b2b3107305"
      },
      "execution_count": null,
      "outputs": [
        {
          "output_type": "stream",
          "name": "stdout",
          "text": [
            "True\n"
          ]
        }
      ]
    },
    {
      "cell_type": "code",
      "source": [
        "text = \"12345\"\n",
        "result = text.isnumeric()\n",
        "print(result)"
      ],
      "metadata": {
        "colab": {
          "base_uri": "https://localhost:8080/"
        },
        "id": "0KEO1QKJmwSt",
        "outputId": "015057b0-8b55-423d-b1e7-07f74378a014"
      },
      "execution_count": null,
      "outputs": [
        {
          "output_type": "stream",
          "name": "stdout",
          "text": [
            "True\n"
          ]
        }
      ]
    },
    {
      "cell_type": "code",
      "source": [
        "my_string = \"Coding in python is fun\"\n",
        "subString = my_string[6:]\n",
        "print(subString)"
      ],
      "metadata": {
        "colab": {
          "base_uri": "https://localhost:8080/"
        },
        "id": "Gqkc8FO2m6Fy",
        "outputId": "1d2bf7a9-6921-4d09-ba6c-3b1fe69e445b"
      },
      "execution_count": null,
      "outputs": [
        {
          "output_type": "stream",
          "name": "stdout",
          "text": [
            " in python is fun\n"
          ]
        }
      ]
    }
  ]
}