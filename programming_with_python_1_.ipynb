{
  "cells": [
    {
      "cell_type": "markdown",
      "metadata": {
        "id": "view-in-github",
        "colab_type": "text"
      },
      "source": [
        "<a href=\"https://colab.research.google.com/github/anvi265/python-fundamentals/blob/main/programming_with_python_1_.ipynb\" target=\"_parent\"><img src=\"https://colab.research.google.com/assets/colab-badge.svg\" alt=\"Open In Colab\"/></a>"
      ]
    },
    {
      "cell_type": "markdown",
      "metadata": {
        "id": "fyUKWVR3szwF"
      },
      "source": [
        "# Basics of Python\n",
        "\n"
      ]
    },
    {
      "cell_type": "code",
      "source": [],
      "metadata": {
        "id": "eF5NmguRRc_d"
      },
      "execution_count": null,
      "outputs": []
    },
    {
      "cell_type": "markdown",
      "metadata": {
        "id": "EKkgMIl-tUFo"
      },
      "source": [
        "`print()` is a function in python which takes a string and will print the content on the console.\n",
        "\n",
        "We also have comments which can be used in Python, whatever is represented as comments will never be processed by Python.\n",
        "\n",
        "Remember, comments are essential for making your code readable and understandable, especially for yourself and others who may read your code in the future. Use them to explain your thought process, document important details, and clarify complex parts of your code."
      ]
    },
    {
      "cell_type": "code",
      "execution_count": null,
      "metadata": {
        "colab": {
          "base_uri": "https://localhost:8080/",
          "height": 35
        },
        "id": "v-bMKKhsRf5A",
        "outputId": "f7af9e5a-ac4e-4307-a4cb-3b09a78b00f1"
      },
      "outputs": [
        {
          "output_type": "execute_result",
          "data": {
            "text/plain": [
              "'\\nThis is a multi-\\nline comment using triple quotes\\nand this will never be executed by python.\\n'"
            ],
            "application/vnd.google.colaboratory.intrinsic+json": {
              "type": "string"
            }
          },
          "metadata": {},
          "execution_count": 4
        }
      ],
      "source": [
        "\"\"\"\n",
        "This is a multi-\n",
        "line comment using triple quotes\n",
        "and this will never be executed by python.\n",
        "\"\"\"\n",
        "\n",
        "# print(\"Priyanka\")\n",
        "\n",
        "# Also this is a single-line comment (Command/Ctrl + /)"
      ]
    },
    {
      "cell_type": "code",
      "execution_count": null,
      "metadata": {
        "colab": {
          "base_uri": "https://localhost:8080/"
        },
        "id": "5i4WgX77Rf5A",
        "outputId": "3ffdc1f7-3b1f-493a-9a9a-7723cd945f0b"
      },
      "outputs": [
        {
          "output_type": "stream",
          "name": "stdout",
          "text": [
            "This will be printed on the console\n"
          ]
        }
      ],
      "source": [
        "print(\"This will be printed on the console\") # command/ctrl + return"
      ]
    },
    {
      "cell_type": "code",
      "execution_count": null,
      "metadata": {
        "colab": {
          "base_uri": "https://localhost:8080/"
        },
        "id": "2hFiR6S-Rf5A",
        "outputId": "b38afe5c-d5cd-4633-f5e7-392ac34a0a8e"
      },
      "outputs": [
        {
          "output_type": "stream",
          "name": "stdout",
          "text": [
            "Hello\n"
          ]
        }
      ],
      "source": [
        "print(\"Hello\") # This is an in-line comment"
      ]
    },
    {
      "cell_type": "markdown",
      "metadata": {
        "id": "xVmjpxstX4oT"
      },
      "source": [
        "# Variables & Data Types\n",
        "\n"
      ]
    },
    {
      "cell_type": "code",
      "execution_count": null,
      "metadata": {
        "colab": {
          "base_uri": "https://localhost:8080/"
        },
        "id": "BLk7lz88Rf5B",
        "outputId": "92ad3692-750b-4c04-f1ee-47f0128f7cf5"
      },
      "outputs": [
        {
          "output_type": "stream",
          "name": "stdout",
          "text": [
            "Alice\n",
            "<class 'str'>\n"
          ]
        }
      ],
      "source": [
        "name = \"Alice\" # String data type\n",
        "print(name)\n",
        "print(type(name))"
      ]
    },
    {
      "cell_type": "code",
      "execution_count": null,
      "metadata": {
        "colab": {
          "base_uri": "https://localhost:8080/"
        },
        "id": "6GBXwVnqRf5B",
        "outputId": "cac66b12-647e-40cf-abad-3e370d8d1a5d"
      },
      "outputs": [
        {
          "output_type": "stream",
          "name": "stdout",
          "text": [
            "18\n",
            "<class 'int'>\n"
          ]
        }
      ],
      "source": [
        "age = 18 # integer data type\n",
        "print(age)\n",
        "print(type(age))"
      ]
    },
    {
      "cell_type": "code",
      "execution_count": null,
      "metadata": {
        "colab": {
          "base_uri": "https://localhost:8080/"
        },
        "id": "kgaj5EanRf5B",
        "outputId": "bb0dd014-e81d-4b02-d80a-77c1e8b5d987"
      },
      "outputs": [
        {
          "output_type": "stream",
          "name": "stdout",
          "text": [
            "True\n",
            "<class 'bool'>\n"
          ]
        }
      ],
      "source": [
        "has_license = True # boolean data type\n",
        "print(has_license)\n",
        "print(type(has_license))"
      ]
    },
    {
      "cell_type": "code",
      "execution_count": null,
      "metadata": {
        "colab": {
          "base_uri": "https://localhost:8080/"
        },
        "id": "OxFFKpTXRf5B",
        "outputId": "5cf01270-edeb-42af-997a-98f0b6a4446d"
      },
      "outputs": [
        {
          "output_type": "stream",
          "name": "stdout",
          "text": [
            "3.8\n",
            "<class 'float'>\n"
          ]
        }
      ],
      "source": [
        "gpa = 3.8 # float data type\n",
        "print(gpa)\n",
        "print(type(gpa))"
      ]
    },
    {
      "cell_type": "code",
      "execution_count": null,
      "metadata": {
        "colab": {
          "base_uri": "https://localhost:8080/"
        },
        "id": "x8MT_621Rf5B",
        "outputId": "92f61194-f645-4ac8-9609-7a865dcd2116"
      },
      "outputs": [
        {
          "output_type": "stream",
          "name": "stdout",
          "text": [
            "current age: 18\n",
            "new_age: 23\n"
          ]
        }
      ],
      "source": [
        "# Creating / modifying variables\n",
        "new_age = age + 5\n",
        "print(\"current age:\", age)\n",
        "print(\"new_age:\", new_age)"
      ]
    },
    {
      "cell_type": "markdown",
      "metadata": {
        "id": "FkOUnjRZY_Pd"
      },
      "source": [
        "We can declare strings using single quotes or double quotes. Also below are examples which will show how you can use a single quote or double quote or both inside a string. If you want to use any of the quote inside the string you can always use `\\` which is called an escape character which will escape the `\"` or `'`. Below are the examples:"
      ]
    },
    {
      "cell_type": "code",
      "execution_count": null,
      "metadata": {
        "colab": {
          "base_uri": "https://localhost:8080/"
        },
        "id": "1JrSrXj0Y9vM",
        "outputId": "66085946-f733-47b0-c030-81ae188501ae"
      },
      "outputs": [
        {
          "output_type": "stream",
          "name": "stdout",
          "text": [
            "She said, 'Hello, World!'\n"
          ]
        }
      ],
      "source": [
        "greeting_double_quotes = \"She said, 'Hello, World!'\"\n",
        "print(greeting_double_quotes)"
      ]
    },
    {
      "cell_type": "code",
      "execution_count": null,
      "metadata": {
        "colab": {
          "base_uri": "https://localhost:8080/"
        },
        "id": "3GAReE_BRf5B",
        "outputId": "e2b40a37-b4e4-4063-edff-36f3b634569a"
      },
      "outputs": [
        {
          "output_type": "stream",
          "name": "stdout",
          "text": [
            "He said, \"Hello, World!\"\n"
          ]
        }
      ],
      "source": [
        "greeting_single_quotes = 'He said, \"Hello, World!\"'\n",
        "print(greeting_single_quotes)"
      ]
    },
    {
      "cell_type": "code",
      "source": [
        "count = 0\n",
        "while(True):\n",
        "   if count % 3 == 0:\n",
        "       print(count, end = \" \")\n",
        "   if(count > 15):\n",
        "       break;\n",
        "   count += 1"
      ],
      "metadata": {
        "id": "iaRscNbUrL1F",
        "outputId": "b5e4874e-b791-4ef1-852a-1ef871aff8de",
        "colab": {
          "base_uri": "https://localhost:8080/"
        }
      },
      "execution_count": null,
      "outputs": [
        {
          "output_type": "stream",
          "name": "stdout",
          "text": [
            "0 3 6 9 12 15 "
          ]
        }
      ]
    },
    {
      "cell_type": "code",
      "source": [
        "i = 1\n",
        "while False:\n",
        "    if i%2 == 0:\n",
        "        break\n",
        "    print(i)\n",
        "    i += 2"
      ],
      "metadata": {
        "id": "B4_aZu9lq3Sw"
      },
      "execution_count": null,
      "outputs": []
    },
    {
      "cell_type": "code",
      "execution_count": null,
      "metadata": {
        "id": "O81ZwWeCRf5C",
        "colab": {
          "base_uri": "https://localhost:8080/"
        },
        "outputId": "8702d70b-d35c-4bc9-f994-e5d93a7b093b"
      },
      "outputs": [
        {
          "output_type": "stream",
          "name": "stdout",
          "text": [
            "I said, \"I love you!\"\n"
          ]
        }
      ],
      "source": [
        "greeting_escape_character = \"I said, \\\"I love you!\\\"\"\n",
        "print(greeting_escape_character)"
      ]
    },
    {
      "cell_type": "code",
      "source": [
        "print('\"He\"ll\"o\"')"
      ],
      "metadata": {
        "id": "RwxSD82VN6xq"
      },
      "execution_count": null,
      "outputs": []
    },
    {
      "cell_type": "markdown",
      "metadata": {
        "id": "zyxYXVY_mmDS"
      },
      "source": [
        "# Arithmetic Operators"
      ]
    },
    {
      "cell_type": "markdown",
      "metadata": {
        "id": "f48bOgppxzpb"
      },
      "source": [
        "We will perform all the arithmetic operations available in python and see the results. Below are all the operations.\n",
        "\n",
        "We will consider two variables `a` and `b`. For each operation we will create a new variable to store the result and print it at the end.\n",
        "\n",
        "You can also observe that floor division and divison operation gives `int` and `float` values respectively."
      ]
    },
    {
      "cell_type": "code",
      "execution_count": null,
      "metadata": {
        "id": "OHo5Ys7Uu5kT"
      },
      "outputs": [],
      "source": [
        "a = 10\n",
        "b = 4\n",
        "d = 5"
      ]
    },
    {
      "cell_type": "code",
      "execution_count": null,
      "metadata": {
        "colab": {
          "base_uri": "https://localhost:8080/"
        },
        "id": "KpgTp5ESRf5C",
        "outputId": "790a796b-c0db-45aa-d418-24e3a039cb6a"
      },
      "outputs": [
        {
          "output_type": "stream",
          "name": "stdout",
          "text": [
            "addition of a and b is: 14\n",
            "addition of 10 and 4 is: 14\n",
            "addition of 10 and 4 is: 14\n",
            "addition of 10 and 4 is: 14\n"
          ]
        }
      ],
      "source": [
        "addition = a + b # Adding of 2 numbers\n",
        "\n",
        "print(\"addition of a and b is:\" , addition)\n",
        "\n",
        "# Other methods to add variables in a string\n",
        "\n",
        "print(\"addition of {} and {} is:\".format(a, b), addition)\n",
        "\n",
        "print(f\"addition of {a} and {b} is:\", addition)\n",
        "\n",
        "print(\"addition of %d and %d is:\" % (a, b), addition)"
      ]
    },
    {
      "cell_type": "code",
      "execution_count": null,
      "metadata": {
        "colab": {
          "base_uri": "https://localhost:8080/"
        },
        "id": "L-quHDwURf5C",
        "outputId": "2f6deb8f-a50f-47e7-b523-fc7aa7535194"
      },
      "outputs": [
        {
          "output_type": "stream",
          "name": "stdout",
          "text": [
            "subtraction of a and b is: 6\n"
          ]
        }
      ],
      "source": [
        "subtraction = a - b # Subtracting of 2 numbers\n",
        "print(\"subtraction of a and b is:\", subtraction)"
      ]
    },
    {
      "cell_type": "code",
      "execution_count": null,
      "metadata": {
        "colab": {
          "base_uri": "https://localhost:8080/"
        },
        "id": "VPXXTGwtRf5C",
        "outputId": "1eceaeeb-363f-4293-d3f9-f1d515b370bd"
      },
      "outputs": [
        {
          "output_type": "stream",
          "name": "stdout",
          "text": [
            "multiplication of a and b is: 40\n"
          ]
        }
      ],
      "source": [
        "multiplication = a * b # Multiplication of 2 numbers\n",
        "print(\"multiplication of a and b is:\", multiplication)"
      ]
    },
    {
      "cell_type": "code",
      "execution_count": null,
      "metadata": {
        "colab": {
          "base_uri": "https://localhost:8080/"
        },
        "id": "pbeCPypDRf5C",
        "outputId": "be993540-57a0-4761-b8ec-499a05849c57"
      },
      "outputs": [
        {
          "output_type": "stream",
          "name": "stdout",
          "text": [
            "division of a and b is: 2.5\n",
            "type of division result: <class 'float'>\n"
          ]
        }
      ],
      "source": [
        "division = a / b # Division of 2 numbers\n",
        "print(\"division of a and b is:\", division)\n",
        "print(\"type of division result:\", type(division)) # Python implicitly converts it to float type for division operation"
      ]
    },
    {
      "cell_type": "code",
      "execution_count": null,
      "metadata": {
        "colab": {
          "base_uri": "https://localhost:8080/"
        },
        "id": "TKI1rrrkRf5C",
        "outputId": "5ba763dd-154c-4b69-bba2-c05a936db681"
      },
      "outputs": [
        {
          "output_type": "stream",
          "name": "stdout",
          "text": [
            "floor_division of a and b is: 2\n"
          ]
        }
      ],
      "source": [
        "floor_division = a // b # Integer part of the division operation\n",
        "print(\"floor_division of a and b is:\", floor_division)"
      ]
    },
    {
      "cell_type": "code",
      "execution_count": null,
      "metadata": {
        "colab": {
          "base_uri": "https://localhost:8080/"
        },
        "id": "ycHY-PmDRf5C",
        "outputId": "1e91cd7d-11b7-46e9-96d2-c06f0b389adf"
      },
      "outputs": [
        {
          "output_type": "stream",
          "name": "stdout",
          "text": [
            "remainder of a and b is: 2\n"
          ]
        }
      ],
      "source": [
        "remainder = a % b # returns the remainder of the division operation\n",
        "print(\"remainder of a and b is:\", remainder)"
      ]
    },
    {
      "cell_type": "code",
      "execution_count": null,
      "metadata": {
        "colab": {
          "base_uri": "https://localhost:8080/"
        },
        "id": "eZEOfQ34Rf5C",
        "outputId": "baba6dfe-b9dc-46c8-cd1c-9638b1743fac"
      },
      "outputs": [
        {
          "output_type": "stream",
          "name": "stdout",
          "text": [
            "a to the power of b is: 10000\n"
          ]
        }
      ],
      "source": [
        "power = a ** b # returns by performing a to the power of b\n",
        "print(\"a to the power of b is:\", power)"
      ]
    },
    {
      "cell_type": "markdown",
      "metadata": {
        "id": "CNX5AbUtzV0X"
      },
      "source": [
        "# Assignment Operators"
      ]
    },
    {
      "cell_type": "markdown",
      "metadata": {
        "id": "4fEnIX_wze78"
      },
      "source": [
        "Assignment operators in Python are used to assign values to variables. They combine an operation with assignment.\n",
        "\n",
        "We can use any arithmetic operator followed by `=` which makes it in-place assignment operation, For example: `+=` adds the right operand to the left operand and assigns the result to the left operand. It is a shorthand notation for updating the value of a variable by adding another value to it. Below are the examples:"
      ]
    },
    {
      "cell_type": "code",
      "execution_count": null,
      "metadata": {
        "colab": {
          "base_uri": "https://localhost:8080/"
        },
        "id": "k9C-67hPRf5D",
        "outputId": "264278ac-cec2-4f55-a8ff-2ac650e0f72a"
      },
      "outputs": [
        {
          "output_type": "stream",
          "name": "stdout",
          "text": [
            "10\n"
          ]
        }
      ],
      "source": [
        "# Examples of Assignment Operators\n",
        "a = 10\n",
        "b = a\n",
        "print(b)"
      ]
    },
    {
      "cell_type": "code",
      "execution_count": null,
      "metadata": {
        "colab": {
          "base_uri": "https://localhost:8080/"
        },
        "id": "j9RzB90WRf5D",
        "outputId": "e12d7ade-d3af-4341-b7b8-bae3719333de"
      },
      "outputs": [
        {
          "output_type": "stream",
          "name": "stdout",
          "text": [
            "20\n"
          ]
        }
      ],
      "source": [
        "# Add and assign value\n",
        "b = a\n",
        "# b = b + 10  # option 1\n",
        "b += 10     # option 2\n",
        "print(b)"
      ]
    },
    {
      "cell_type": "code",
      "source": [
        "a = 10\n",
        "b = 10\n",
        "print(a // b)"
      ],
      "metadata": {
        "colab": {
          "base_uri": "https://localhost:8080/"
        },
        "id": "lOpxOwDcPGHr",
        "outputId": "6b551727-6585-49fe-e0b2-6f9014ddf621"
      },
      "execution_count": null,
      "outputs": [
        {
          "output_type": "stream",
          "name": "stdout",
          "text": [
            "1\n"
          ]
        }
      ]
    },
    {
      "cell_type": "code",
      "execution_count": null,
      "metadata": {
        "colab": {
          "base_uri": "https://localhost:8080/"
        },
        "id": "-oQfW9vSRf5D",
        "outputId": "6b47cc55-950e-4360-eff7-73234b6c64dc"
      },
      "outputs": [
        {
          "output_type": "stream",
          "name": "stdout",
          "text": [
            "1.0\n"
          ]
        }
      ],
      "source": [
        "# Divide and assign value\n",
        "b = a\n",
        "b /= 10     #option 1\n",
        "# b = b / 10  #option 2\n",
        "print(b)"
      ]
    },
    {
      "cell_type": "code",
      "execution_count": null,
      "metadata": {
        "colab": {
          "base_uri": "https://localhost:8080/"
        },
        "id": "i9CPCWf3Rf5D",
        "outputId": "14ea5eaf-a1d7-442f-d901-0db7e31114cf"
      },
      "outputs": [
        {
          "output_type": "stream",
          "name": "stdout",
          "text": [
            "5\n"
          ]
        }
      ],
      "source": [
        "# Subtract and assign value\n",
        "b = 10\n",
        "b -= 5      # option 1\n",
        "# b = b - 5   # option 2\n",
        "print(b)"
      ]
    },
    {
      "cell_type": "code",
      "execution_count": null,
      "metadata": {
        "colab": {
          "base_uri": "https://localhost:8080/"
        },
        "id": "HGTnZ9d5Rf5D",
        "outputId": "bc5eadaf-5d71-4452-9fc2-78aec7060025"
      },
      "outputs": [
        {
          "output_type": "stream",
          "name": "stdout",
          "text": [
            "20\n"
          ]
        }
      ],
      "source": [
        "# multiply and assign value\n",
        "b = 10\n",
        "b *= 2      # option 1\n",
        "# b = b * 2   # option 2\n",
        "print(b)"
      ]
    },
    {
      "cell_type": "markdown",
      "metadata": {
        "id": "0gSK121Y1Wgy"
      },
      "source": [
        "# Comparison Operators"
      ]
    },
    {
      "cell_type": "markdown",
      "metadata": {
        "id": "22Fj1Q8S1aZu"
      },
      "source": [
        "Comparison operators in Python are used to compare values and expressions, and they return a Boolean result (True or False). These operators play a crucial role in controlling the flow of a program, making decisions based on conditions, and expressing relationships between different values."
      ]
    },
    {
      "cell_type": "code",
      "execution_count": null,
      "metadata": {
        "id": "pkwPltAXRf5D"
      },
      "outputs": [],
      "source": [
        "a = 40\n",
        "b = 40"
      ]
    },
    {
      "cell_type": "code",
      "source": [
        "condition = a > b # bool\n",
        "\n",
        "print(condition)"
      ],
      "metadata": {
        "colab": {
          "base_uri": "https://localhost:8080/"
        },
        "id": "xdnB5nR3ttkI",
        "outputId": "da6d4f4b-47e4-4aee-c54a-a76b64dd9af5"
      },
      "execution_count": null,
      "outputs": [
        {
          "output_type": "stream",
          "name": "stdout",
          "text": [
            "False\n"
          ]
        }
      ]
    },
    {
      "cell_type": "code",
      "execution_count": null,
      "metadata": {
        "colab": {
          "base_uri": "https://localhost:8080/"
        },
        "id": "mB-1R1haRf5D",
        "outputId": "4778067c-04c1-40fc-8cf7-f0509b9ea6d7"
      },
      "outputs": [
        {
          "output_type": "stream",
          "name": "stdout",
          "text": [
            "False\n"
          ]
        }
      ],
      "source": [
        "print(a > b)"
      ]
    },
    {
      "cell_type": "code",
      "execution_count": null,
      "metadata": {
        "colab": {
          "base_uri": "https://localhost:8080/"
        },
        "id": "bsH7CHXeRf5D",
        "outputId": "52ed8785-b6b4-431d-fb3f-8ead34ee1957"
      },
      "outputs": [
        {
          "output_type": "stream",
          "name": "stdout",
          "text": [
            "False\n"
          ]
        }
      ],
      "source": [
        "print(a < b)"
      ]
    },
    {
      "cell_type": "code",
      "execution_count": null,
      "metadata": {
        "colab": {
          "base_uri": "https://localhost:8080/"
        },
        "id": "O1uTiFHNRf5D",
        "outputId": "668941b6-f98d-4170-e2a3-cdad7705fb41"
      },
      "outputs": [
        {
          "output_type": "stream",
          "name": "stdout",
          "text": [
            "True\n"
          ]
        }
      ],
      "source": [
        "print(a == b)"
      ]
    },
    {
      "cell_type": "code",
      "execution_count": null,
      "metadata": {
        "colab": {
          "base_uri": "https://localhost:8080/"
        },
        "id": "FlQWH94gRf5D",
        "outputId": "3b06880f-d721-4ece-c949-423bd6b33f3f"
      },
      "outputs": [
        {
          "output_type": "stream",
          "name": "stdout",
          "text": [
            "False\n"
          ]
        }
      ],
      "source": [
        "print(a != b)"
      ]
    },
    {
      "cell_type": "code",
      "execution_count": null,
      "metadata": {
        "colab": {
          "base_uri": "https://localhost:8080/"
        },
        "id": "VwBy0HLtRf5Q",
        "outputId": "8ade4d01-9184-4a6e-8964-8e1781622e42"
      },
      "outputs": [
        {
          "output_type": "stream",
          "name": "stdout",
          "text": [
            "True\n"
          ]
        }
      ],
      "source": [
        "print(a >= b)"
      ]
    },
    {
      "cell_type": "code",
      "execution_count": null,
      "metadata": {
        "colab": {
          "base_uri": "https://localhost:8080/"
        },
        "id": "GobZeQ2mRf5Q",
        "outputId": "8c7e6526-494a-4038-eb50-edf1e6f99cdd"
      },
      "outputs": [
        {
          "output_type": "stream",
          "name": "stdout",
          "text": [
            "True\n"
          ]
        }
      ],
      "source": [
        "print(a <= b)"
      ]
    },
    {
      "cell_type": "markdown",
      "metadata": {
        "id": "0x7drQPsC0iw"
      },
      "source": [
        "# Logical Operators"
      ]
    },
    {
      "cell_type": "code",
      "execution_count": null,
      "metadata": {
        "id": "Fn5lH-QFC-Lq"
      },
      "outputs": [],
      "source": [
        "a = True\n",
        "b = False"
      ]
    },
    {
      "cell_type": "code",
      "execution_count": null,
      "metadata": {
        "colab": {
          "base_uri": "https://localhost:8080/"
        },
        "id": "lejbHLapRf5Q",
        "outputId": "fbba5330-5bda-4830-8530-2773a7fe6f91"
      },
      "outputs": [
        {
          "output_type": "stream",
          "name": "stdout",
          "text": [
            "False\n"
          ]
        }
      ],
      "source": [
        "print(a and b)"
      ]
    },
    {
      "cell_type": "code",
      "execution_count": null,
      "metadata": {
        "colab": {
          "base_uri": "https://localhost:8080/"
        },
        "id": "ebcqplU7Rf5Q",
        "outputId": "cb5d1dcc-2a75-4ce1-c7fb-594eff744898"
      },
      "outputs": [
        {
          "output_type": "stream",
          "name": "stdout",
          "text": [
            "True\n"
          ]
        }
      ],
      "source": [
        "print(a or b)"
      ]
    },
    {
      "cell_type": "code",
      "execution_count": null,
      "metadata": {
        "colab": {
          "base_uri": "https://localhost:8080/"
        },
        "id": "ktU1O88ZRf5Q",
        "outputId": "e01fbd09-bb66-4e8e-efe2-6a9ba3fa682d"
      },
      "outputs": [
        {
          "output_type": "stream",
          "name": "stdout",
          "text": [
            "False\n",
            "True\n"
          ]
        }
      ],
      "source": [
        "print(not a)\n",
        "print(not b)"
      ]
    },
    {
      "cell_type": "code",
      "execution_count": null,
      "metadata": {
        "colab": {
          "base_uri": "https://localhost:8080/"
        },
        "id": "n1znxDH3DADo",
        "outputId": "19425535-6909-4dc5-c732-8929fd064e87"
      },
      "outputs": [
        {
          "output_type": "stream",
          "name": "stdout",
          "text": [
            "True\n",
            "False\n"
          ]
        }
      ],
      "source": [
        "a = True\n",
        "b = False\n",
        "\n",
        "condition1 = (a or b)\n",
        "condition2 = (a and b)\n",
        "\n",
        "print(condition1)\n",
        "print(condition2)"
      ]
    },
    {
      "cell_type": "markdown",
      "metadata": {
        "id": "6-pJouhZsZMC"
      },
      "source": [
        "# If Else Statements"
      ]
    },
    {
      "cell_type": "markdown",
      "metadata": {
        "id": "bS3Oc-OFt26Q"
      },
      "source": [
        "The below code is to find whether the given number is even or odd using conditional statements"
      ]
    },
    {
      "cell_type": "code",
      "execution_count": null,
      "metadata": {
        "colab": {
          "base_uri": "https://localhost:8080/"
        },
        "id": "zrcnWUL2sdI6",
        "outputId": "b7f71d9d-557b-48e1-c996-e7d6c130a3cd"
      },
      "outputs": [
        {
          "output_type": "stream",
          "name": "stdout",
          "text": [
            "odd\n"
          ]
        }
      ],
      "source": [
        "a = 11\n",
        "# use if else for finding a number is odd or even if its diveided by 2 is 0\n",
        "if not (a%2):\n",
        "\n",
        " print (\"Even\")\n",
        "else:\n",
        " print (\"odd\")"
      ]
    },
    {
      "cell_type": "markdown",
      "metadata": {
        "id": "H2J8MSsgt93q"
      },
      "source": [
        "The below code is find the grade of a student from the score."
      ]
    },
    {
      "cell_type": "code",
      "execution_count": null,
      "metadata": {
        "colab": {
          "base_uri": "https://localhost:8080/"
        },
        "id": "MOzTSmhrtL5D",
        "outputId": "b0e7bb50-83e2-4cbd-f2ba-5b6b580f55e8"
      },
      "outputs": [
        {
          "output_type": "stream",
          "name": "stdout",
          "text": [
            "Grade: C\n"
          ]
        }
      ],
      "source": [
        "# if else statements to find the Grade of a student based on the exam score\n",
        "\n",
        "score = 101\n",
        "# Check the grade based on the score\n",
        "if score >= 90 and score <=100:\n",
        "    # Grade A: If the score is 90 or above\n",
        "    print(\"Grade: A\")\n",
        "\n",
        "elif score >= 80 and score <=90:\n",
        "    # Grade B: If the score is between 80 and 89\n",
        "    print(\"Grade: B\")\n",
        "\n",
        "elif score >= 70:\n",
        "    # Grade C: If the score is between 70 and 79\n",
        "    print(\"Grade: C\")\n",
        "\n",
        "elif score >= 60:\n",
        "    # Grade D: If the score is between 60 and 69\n",
        "    print(\"Grade: D\")\n",
        "\n",
        "else:\n",
        "    # Grade F: If the score is below 60\n",
        "    print(\"Grade: F (Fail)\")"
      ]
    },
    {
      "cell_type": "markdown",
      "metadata": {
        "id": "UMc0aG50uMgk"
      },
      "source": [
        "The below code is find out whether the given number is positive, negative or zero."
      ]
    },
    {
      "cell_type": "code",
      "execution_count": null,
      "metadata": {
        "id": "h8mvDSlYstvB",
        "colab": {
          "base_uri": "https://localhost:8080/"
        },
        "outputId": "73c5fd67-f2f9-4b3a-b403-557e9399f2d7"
      },
      "outputs": [
        {
          "output_type": "stream",
          "name": "stdout",
          "text": [
            "Positive number\n",
            "Inside if block\n"
          ]
        }
      ],
      "source": [
        "number = 10\n",
        "\n",
        "# if-elif-else\n",
        "if number > 0: # definition of positive\n",
        "    print(\"Positive number\")\n",
        "    print(\"Inside if block\")\n",
        "elif number < 0: # definition of negative\n",
        "    print(\"Negative number\")\n",
        "    print(\"Inside elif block\")\n",
        "else: # zero\n",
        "    print(\"Zero\")\n",
        "    print(\"Inside else block\")"
      ]
    },
    {
      "cell_type": "markdown",
      "metadata": {
        "id": "suLhajEguUTt"
      },
      "source": [
        "The below code is to find out what traingle type it is given the length of all 3 sides of a traingle"
      ]
    },
    {
      "cell_type": "code",
      "execution_count": null,
      "metadata": {
        "id": "_6QBFi7HubSX",
        "colab": {
          "base_uri": "https://localhost:8080/"
        },
        "outputId": "75f1e3a9-569a-4b12-847a-2c74d5a363b6"
      },
      "outputs": [
        {
          "output_type": "stream",
          "name": "stdout",
          "text": [
            "Equilateral Triangle: All sides are equal.\n"
          ]
        }
      ],
      "source": [
        "# Triangle type example based on sides\n",
        "side1 = 10\n",
        "side2 = 10\n",
        "side3 = 10\n",
        "\n",
        "# Check triangle type\n",
        "if side1 == side2 == side3:\n",
        "    print(\"Equilateral Triangle: All sides are equal.\")\n",
        "\n",
        "elif (side1 == side2) or (side1 == side3) or (side2 == side3):\n",
        "    print(\"Isosceles Triangle: Two sides are equal.\")\n",
        "\n",
        "else:\n",
        "    print(\"Scalene Triangle: No sides are equal.\")\n"
      ]
    },
    {
      "cell_type": "markdown",
      "metadata": {
        "id": "jb8PkizNvO9h"
      },
      "source": [
        "The below code takes 3 values and checks whether they form a Pythagorean Triplet or not."
      ]
    },
    {
      "cell_type": "code",
      "execution_count": null,
      "metadata": {
        "colab": {
          "base_uri": "https://localhost:8080/"
        },
        "id": "_IlCkuF8vV7J",
        "outputId": "e1d54813-787c-4d22-f567-dc2484c1e924"
      },
      "outputs": [
        {
          "output_type": "stream",
          "name": "stdout",
          "text": [
            "The numbers form a Pythagorean triplet.\n"
          ]
        }
      ],
      "source": [
        "# Pythagorean triplet example\n",
        "a = 3\n",
        "b = 4\n",
        "c = 5\n",
        "\n",
        "# Check if it forms a Pythagorean triplet\n",
        "if (a**2 + b**2 == c**2) or (a**2 + c**2 == b**2) or (b**2 + c**2 == a**2):\n",
        "    print(\"The numbers form a Pythagorean triplet.\")\n",
        "else:\n",
        "    print(\"The numbers do not form a Pythagorean triplet.\")"
      ]
    },
    {
      "cell_type": "markdown",
      "metadata": {
        "id": "0gFdolhJv3_y"
      },
      "source": [
        "An example of a nested if-else"
      ]
    },
    {
      "cell_type": "code",
      "execution_count": null,
      "metadata": {
        "colab": {
          "base_uri": "https://localhost:8080/"
        },
        "id": "F6ZnIvlas_Rx",
        "outputId": "88eb824e-cc34-44a4-9031-8a2436eb5ab0"
      },
      "outputs": [
        {
          "output_type": "stream",
          "name": "stdout",
          "text": [
            "it is even and also divisible by 6\n"
          ]
        }
      ],
      "source": [
        "# nested if-else\n",
        "\n",
        "a = 12\n",
        "\n",
        "if a % 2 == 0:\n",
        "    if a % 5 == 0:\n",
        "        print(\"It is even and also divisible by 5\")\n",
        "    elif a % 6 == 0:\n",
        "        print(\"it is even and also divisible by 6\")\n",
        "    else:\n",
        "        print(\"it is an even number, not divisible by 5 and 6\")\n",
        "else:\n",
        "    if a % 3 == 0:\n",
        "        print(\"it is odd and also divisible by 3\")\n",
        "    else:\n",
        "        print(\"It is odd but not divisible by 3\")"
      ]
    },
    {
      "cell_type": "markdown",
      "metadata": {
        "id": "u4h06LksgdpY"
      },
      "source": [
        "# Loops"
      ]
    },
    {
      "cell_type": "code",
      "execution_count": null,
      "metadata": {
        "id": "Q3o3HrQ_gkdz",
        "colab": {
          "base_uri": "https://localhost:8080/"
        },
        "outputId": "2d2a36c3-c71c-4167-f113-5df8d09b4972"
      },
      "outputs": [
        {
          "output_type": "stream",
          "name": "stdout",
          "text": [
            "0 Hello world\n",
            "1 Hello world\n",
            "2 Hello world\n",
            "3 Hello world\n",
            "4 Hello world\n",
            "5 Hello world\n",
            "6 Hello world\n",
            "7 Hello world\n",
            "8 Hello world\n",
            "9 Hello world\n"
          ]
        }
      ],
      "source": [
        "for i in range(10): # (0, 1, 2, ..., 9)\n",
        "    print(i, \"Hello world\")"
      ]
    },
    {
      "cell_type": "code",
      "source": [
        "fruits = [\"apple\", \"banana\", \"orange\"]\n",
        "for fruit in fruits:\n",
        "  print(fruit)"
      ],
      "metadata": {
        "colab": {
          "base_uri": "https://localhost:8080/"
        },
        "id": "qHGaaW0faYuO",
        "outputId": "0608b018-6422-47ee-e529-eb8efe324cef"
      },
      "execution_count": null,
      "outputs": [
        {
          "output_type": "stream",
          "name": "stdout",
          "text": [
            "apple\n",
            "banana\n",
            "orange\n"
          ]
        }
      ]
    },
    {
      "cell_type": "code",
      "execution_count": null,
      "metadata": {
        "colab": {
          "base_uri": "https://localhost:8080/"
        },
        "id": "BgwE_zrXgvAI",
        "outputId": "9dce0109-35fc-4b39-ec27-380ad1bc2a9b"
      },
      "outputs": [
        {
          "output_type": "stream",
          "name": "stdout",
          "text": [
            "10\n",
            "11\n",
            "12\n",
            "13\n",
            "14\n",
            "15\n",
            "16\n",
            "17\n",
            "18\n",
            "19\n"
          ]
        }
      ],
      "source": [
        "for i in range(10, 20): # (10, 11, ..., 19)\n",
        "    print(i)"
      ]
    },
    {
      "cell_type": "code",
      "execution_count": null,
      "metadata": {
        "colab": {
          "base_uri": "https://localhost:8080/"
        },
        "id": "QbrF-eYhRf5R",
        "outputId": "a8d7a768-8f10-47f6-ca61-d78376940980"
      },
      "outputs": [
        {
          "output_type": "stream",
          "name": "stdout",
          "text": [
            "0\n",
            "3\n",
            "6\n",
            "9\n",
            "12\n",
            "15\n",
            "18\n"
          ]
        }
      ],
      "source": [
        "for i in range(0, 20, 3): # (0, 3, ..., 18)\n",
        "    print(i)"
      ]
    },
    {
      "cell_type": "code",
      "execution_count": null,
      "metadata": {
        "colab": {
          "base_uri": "https://localhost:8080/"
        },
        "id": "gSrIH_eCgxhk",
        "outputId": "937d7dd5-6390-4d29-f729-6c7c499369d5"
      },
      "outputs": [
        {
          "output_type": "stream",
          "name": "stdout",
          "text": [
            "0\n",
            "1\n",
            "2\n",
            "3\n",
            "4\n",
            "5\n",
            "7\n",
            "8\n",
            "9\n"
          ]
        }
      ],
      "source": [
        "# while loop\n",
        "i = 0\n",
        "while i < 10:\n",
        "    if i == 6:\n",
        "        i += 1\n",
        "        continue\n",
        "    print(i)\n",
        "    i += 1"
      ]
    },
    {
      "cell_type": "code",
      "source": [
        "name = input(\"Please enter your name: \")\n",
        "\n",
        "print(\"Hello \" + name + \". Welcome to Python week 1!\")"
      ],
      "metadata": {
        "colab": {
          "base_uri": "https://localhost:8080/"
        },
        "id": "UK5JprufJzd0",
        "outputId": "17dce121-ef30-47bf-a0ec-fd10f9757eff"
      },
      "execution_count": null,
      "outputs": [
        {
          "output_type": "stream",
          "name": "stdout",
          "text": [
            "Please enter your name: ati\n",
            "Hello ati. Welcome to Python week 1!\n"
          ]
        }
      ]
    },
    {
      "cell_type": "code",
      "source": [
        "for number in range (2000, 3501):\n",
        "\n",
        "if (number % 7 == 0) and (number % 5 != 0):\n",
        "  print(number, end= \"!\")\n",
        "\n"
      ],
      "metadata": {
        "id": "ywI-veJdxIMC"
      },
      "execution_count": null,
      "outputs": []
    },
    {
      "cell_type": "markdown",
      "metadata": {
        "id": "YuHBOsauiKKP"
      },
      "source": [
        "Write a program to Check Whether a Number is Prime or not"
      ]
    },
    {
      "cell_type": "code",
      "source": [
        "number ="
      ],
      "metadata": {
        "id": "ZGE_qNe7KXx_"
      },
      "execution_count": null,
      "outputs": []
    },
    {
      "cell_type": "code",
      "execution_count": null,
      "metadata": {
        "colab": {
          "base_uri": "https://localhost:8080/"
        },
        "id": "UxCglKLDg_Mc",
        "outputId": "23d2a92b-901a-4467-b9e7-56b66d019d4d"
      },
      "outputs": [
        {
          "output_type": "stream",
          "name": "stdout",
          "text": [
            "Enter an integer: 21\n",
            "3\n",
            "not a prime number\n"
          ]
        }
      ],
      "source": [
        "user_input = int(input(\"Enter an integer: \"))\n",
        "is_prime = True\n",
        "\n",
        "if user_input < 2: # numbers smaller than 2 are not prime\n",
        "    is_prime = False\n",
        "elif user_input == 2: # check 2\n",
        "    is_prime = True\n",
        "elif user_input % 2 == 0: # even numbers except 2 are not prime\n",
        "    is_prime = False\n",
        "else:\n",
        "    for i in range(3, user_input, 2):\n",
        "        print(i)\n",
        "        if user_input % i == 0:\n",
        "            is_prime = False\n",
        "            break\n",
        "\n",
        "if is_prime:\n",
        "    print(\"prime number\")\n",
        "else:\n",
        "    print(\"not a prime number\")"
      ]
    },
    {
      "cell_type": "markdown",
      "metadata": {
        "id": "In87uz3QoaSW"
      },
      "source": [
        "Write a program to find numbers that are divisible by 7 but not by 5 in the range from 2000 to 3500"
      ]
    },
    {
      "cell_type": "code",
      "execution_count": null,
      "metadata": {
        "colab": {
          "base_uri": "https://localhost:8080/"
        },
        "id": "-0jzGhDEj8cr",
        "outputId": "895b7fe7-29e7-48c0-813b-fc4642637657"
      },
      "outputs": [
        {
          "output_type": "stream",
          "name": "stdout",
          "text": [
            "2002|2009|2016|2023|2037|2044|2051|2058|2072|2079|2086|2093|2107|2114|2121|2128|2142|2149|2156|2163|2177|2184|2191|2198|2212|2219|2226|2233|2247|2254|2261|2268|2282|2289|2296|2303|2317|2324|2331|2338|2352|2359|2366|2373|2387|2394|2401|2408|2422|2429|2436|2443|2457|2464|2471|2478|2492|2499|2506|2513|2527|2534|2541|2548|2562|2569|2576|2583|2597|2604|2611|2618|2632|2639|2646|2653|2667|2674|2681|2688|2702|2709|2716|2723|2737|2744|2751|2758|2772|2779|2786|2793|2807|2814|2821|2828|2842|2849|2856|2863|2877|2884|2891|2898|2912|2919|2926|2933|2947|2954|2961|2968|2982|2989|2996|3003|3017|3024|3031|3038|3052|3059|3066|3073|3087|3094|3101|3108|3122|3129|3136|3143|3157|3164|3171|3178|3192|3199|3206|3213|3227|3234|3241|3248|3262|3269|3276|3283|3297|3304|3311|3318|3332|3339|3346|3353|3367|3374|3381|3388|3402|3409|3416|3423|3437|3444|3451|3458|3472|3479|3486|3493|"
          ]
        }
      ],
      "source": [
        "for num in range(2000, 3501):\n",
        "    if (num % 7 == 0) and (num % 5 != 0):\n",
        "       print(num, end=\"|\")\n"
      ]
    },
    {
      "cell_type": "markdown",
      "metadata": {
        "id": "-LKLo3DuAboc"
      },
      "source": [
        "Write a program that takes a number as input and returns true if the sum of its digits has the same parity as the entire number. (Here same parity is whether they are even or odd). Else would return false.\n",
        "\n",
        "parity_analysis(243) ➞ True  # 243 is odd and so is 9 (2 + 4 + 3)\n",
        "\n",
        "parity_analysis(12) ➞ False  # 12 is even but 3 is odd (1 + 2)"
      ]
    },
    {
      "cell_type": "code",
      "execution_count": null,
      "metadata": {
        "colab": {
          "base_uri": "https://localhost:8080/"
        },
        "id": "1-WGMiK_Rf5S",
        "outputId": "0e761b91-e178-44e5-89c8-f363ddfd70ac"
      },
      "outputs": [
        {
          "output_type": "stream",
          "name": "stdout",
          "text": [
            "Enter an integer: 554\n",
            "True\n"
          ]
        }
      ],
      "source": [
        "number = int(input(\"Enter an integer: \"))\n",
        "digit_sum = 0\n",
        "\n",
        "number_str = str(number)\n",
        "\n",
        "for digit in number_str:\n",
        "    digit_sum += int(digit)\n",
        "\n",
        "condition = (number % 2) == (digit_sum % 2)\n",
        "print(condition)"
      ]
    },
    {
      "cell_type": "markdown",
      "source": [
        "Multiplication table of n"
      ],
      "metadata": {
        "id": "mzcNZXnpKeJR"
      }
    },
    {
      "cell_type": "code",
      "source": [
        "multable = int(input(\"Multiplication table of : \"))\n",
        "i=1\n",
        "for i in range(1,13):\n",
        "    result = i*multable\n",
        "    print (f\"{i} X {multable} = \" + str(result) )\n"
      ],
      "metadata": {
        "colab": {
          "base_uri": "https://localhost:8080/"
        },
        "id": "Fm7X3BFLKdvy",
        "outputId": "87dda791-842c-49ac-ab37-2c5a1232ae66"
      },
      "execution_count": null,
      "outputs": [
        {
          "output_type": "stream",
          "name": "stdout",
          "text": [
            "Multiplication table of : 5\n",
            "1 X 5 = 5\n",
            "2 X 5 = 10\n",
            "3 X 5 = 15\n",
            "4 X 5 = 20\n",
            "5 X 5 = 25\n",
            "6 X 5 = 30\n",
            "7 X 5 = 35\n",
            "8 X 5 = 40\n",
            "9 X 5 = 45\n",
            "10 X 5 = 50\n",
            "11 X 5 = 55\n",
            "12 X 5 = 60\n"
          ]
        }
      ]
    },
    {
      "cell_type": "markdown",
      "source": [
        "Multiplication Table upto n"
      ],
      "metadata": {
        "id": "91HPvqAbSxB2"
      }
    },
    {
      "cell_type": "code",
      "source": [
        "mul_upto = int(input(\"Multiplication Table upto : \"))\n",
        "i=1\n",
        "for i in range(1,mul_upto):\n",
        "    for j in range (1,13):\n",
        "      result = i*j\n",
        "      print (f\"{i} X {j} = \" + str(result) )\n",
        "    print(\"--------------\")"
      ],
      "metadata": {
        "colab": {
          "base_uri": "https://localhost:8080/"
        },
        "id": "q4w5Jjn2Sqwz",
        "outputId": "964b922d-9b3c-46bf-d836-d840cb6cff9d"
      },
      "execution_count": null,
      "outputs": [
        {
          "output_type": "stream",
          "name": "stdout",
          "text": [
            "Multiplication Table upto : 5\n",
            "1 X 1 = 1\n",
            "1 X 2 = 2\n",
            "1 X 3 = 3\n",
            "1 X 4 = 4\n",
            "1 X 5 = 5\n",
            "1 X 6 = 6\n",
            "1 X 7 = 7\n",
            "1 X 8 = 8\n",
            "1 X 9 = 9\n",
            "1 X 10 = 10\n",
            "1 X 11 = 11\n",
            "1 X 12 = 12\n",
            "--------------\n",
            "2 X 1 = 2\n",
            "2 X 2 = 4\n",
            "2 X 3 = 6\n",
            "2 X 4 = 8\n",
            "2 X 5 = 10\n",
            "2 X 6 = 12\n",
            "2 X 7 = 14\n",
            "2 X 8 = 16\n",
            "2 X 9 = 18\n",
            "2 X 10 = 20\n",
            "2 X 11 = 22\n",
            "2 X 12 = 24\n",
            "--------------\n",
            "3 X 1 = 3\n",
            "3 X 2 = 6\n",
            "3 X 3 = 9\n",
            "3 X 4 = 12\n",
            "3 X 5 = 15\n",
            "3 X 6 = 18\n",
            "3 X 7 = 21\n",
            "3 X 8 = 24\n",
            "3 X 9 = 27\n",
            "3 X 10 = 30\n",
            "3 X 11 = 33\n",
            "3 X 12 = 36\n",
            "--------------\n",
            "4 X 1 = 4\n",
            "4 X 2 = 8\n",
            "4 X 3 = 12\n",
            "4 X 4 = 16\n",
            "4 X 5 = 20\n",
            "4 X 6 = 24\n",
            "4 X 7 = 28\n",
            "4 X 8 = 32\n",
            "4 X 9 = 36\n",
            "4 X 10 = 40\n",
            "4 X 11 = 44\n",
            "4 X 12 = 48\n",
            "--------------\n"
          ]
        }
      ]
    },
    {
      "cell_type": "markdown",
      "metadata": {
        "id": "T-SA-NzsAroO"
      },
      "source": [
        "Write a program that helps you to calculate factorial of a given number.\n",
        "\n",
        "Factorial - Calculating the factorial of a number involves multiplying all positive integers up to that number.\n",
        "Here's a simple Python program to calculate the factorial of a given number."
      ]
    },
    {
      "cell_type": "code",
      "source": [
        "# n! = 1 x 2 x ... x n\n",
        "\n",
        "# 0! = 1\n",
        "# 1! = 1\n",
        "# 2! = 1 x 2 = 2\n",
        "# 3! = 1 x 2 x 3 = 6"
      ],
      "metadata": {
        "id": "K8PCu_IESpzc"
      },
      "execution_count": null,
      "outputs": []
    },
    {
      "cell_type": "code",
      "execution_count": null,
      "metadata": {
        "colab": {
          "base_uri": "https://localhost:8080/"
        },
        "id": "ZIJzXavjAw1S",
        "outputId": "4377d16f-ec7b-4953-df8f-52bdff51e32d"
      },
      "outputs": [
        {
          "output_type": "stream",
          "name": "stdout",
          "text": [
            "Enter an integer: 10\n",
            "The factorial of 10 is 3628800\n"
          ]
        }
      ],
      "source": [
        "number = int(input(\"Enter an integer: \")) # say, number = 4\n",
        "\n",
        "if number < 0:\n",
        "    print(\"Not a valid number\")\n",
        "elif number == 0:\n",
        "    result = 1\n",
        "    print(f\"The factorial of {number} is {result}\")\n",
        "else:\n",
        "    result = 1\n",
        "    for i in range(2, number+1):\n",
        "        result *= i\n",
        "        # result = result * i\n",
        "    print(f\"The factorial of {number} is {result}\")"
      ]
    }
  ],
  "metadata": {
    "colab": {
      "collapsed_sections": [
        "fyUKWVR3szwF",
        "xVmjpxstX4oT",
        "zyxYXVY_mmDS",
        "CNX5AbUtzV0X",
        "0gSK121Y1Wgy",
        "0x7drQPsC0iw"
      ],
      "provenance": [],
      "include_colab_link": true
    },
    "kernelspec": {
      "display_name": "Python 3 (ipykernel)",
      "language": "python",
      "name": "python3"
    },
    "language_info": {
      "codemirror_mode": {
        "name": "ipython",
        "version": 3
      },
      "file_extension": ".py",
      "mimetype": "text/x-python",
      "name": "python",
      "nbconvert_exporter": "python",
      "pygments_lexer": "ipython3",
      "version": "3.10.9"
    }
  },
  "nbformat": 4,
  "nbformat_minor": 0
}